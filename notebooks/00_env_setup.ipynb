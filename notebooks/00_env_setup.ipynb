{
 "cells": [
  {
   "cell_type": "markdown",
   "id": "dc431fd7-d95b-4716-b070-ff085d9dec9d",
   "metadata": {},
   "source": [
    "# Шаг 0. Настраиваю окружение из ноутбука (без PowerShell)\n",
    "\n",
    "Цель: создать .venv в проекте, поставить пакеты и сделать ядро \"Python (credit)\".\n",
    "Потом буду работать только в этом ядре.\n"
   ]
  },
  {
   "cell_type": "code",
   "execution_count": 8,
   "id": "701f0a36-bea9-49e1-be9f-4eda79ae3734",
   "metadata": {},
   "outputs": [
    {
     "name": "stdout",
     "output_type": "stream",
     "text": [
      "Готовы папки, .gitignore, requirements.txt\n"
     ]
    }
   ],
   "source": [
    "from pathlib import Path\n",
    "\n",
    "ROOT = Path.cwd()\n",
    "if ROOT.name != \"credit\":\n",
    "    if ROOT.name == \"notebooks\":\n",
    "        ROOT = ROOT.parent\n",
    "    else:\n",
    "        print(\"Открой ноутбук из папки проекта credit.\")\n",
    "ROOT.mkdir(exist_ok=True)\n",
    "\n",
    "# базовые папки\n",
    "for p in [ROOT/\"data\"/\"raw\", ROOT/\"data\"/\"processed\", ROOT/\"models\", ROOT/\"src\"/\"data\", ROOT/\"src\"/\"features\", ROOT/\"src\"/\"models\", ROOT/\"tests\", ROOT/\"notebooks\"]:\n",
    "    p.mkdir(parents=True, exist_ok=True)\n",
    "\n",
    "# .gitignore\n",
    "(ROOT/\".gitignore\").write_text(\n",
    "\"\"\".venv/\n",
    "__pycache__/\n",
    ".ipynb_checkpoints/\n",
    "data/raw/*\n",
    "data/processed/*\n",
    "mlruns/\n",
    ".DS_Store\n",
    "\"\"\", encoding=\"utf-8\")\n",
    "\n",
    "# requirements \n",
    "(ROOT/\"requirements.txt\").write_text(\n",
    "\"\"\"pandas==2.2.2\n",
    "scikit-learn==1.5.2\n",
    "pandera==0.18.3\n",
    "ipykernel==6.29.5\n",
    "jupyter==1.0.0\n",
    "\"\"\", encoding=\"utf-8\")\n",
    "\n",
    "print(\"Готовы папки, .gitignore, requirements.txt\")\n"
   ]
  },
  {
   "cell_type": "markdown",
   "id": "aa38e3fb-574d-4d31-a614-5c56888e4a83",
   "metadata": {},
   "source": [
    "## Создаю виртуальное окружение .venv прямо из этого Python\n",
    "беру текущий интерпретатор (sys.executable) и прошу его создать .venv.\n"
   ]
  },
  {
   "cell_type": "code",
   "execution_count": 12,
   "id": "77a0041c-67ba-4877-aa1e-dbfa5f3c0684",
   "metadata": {},
   "outputs": [
    {
     "name": "stdout",
     "output_type": "stream",
     "text": [
      "Создаю .venv ...\n",
      "Путь к .venv python: C:\\Users\\USER\\Desktop\\credit\\.venv\\Scripts\\python.exe существует: True\n"
     ]
    }
   ],
   "source": [
    "import sys, subprocess, shutil\n",
    "from pathlib import Path\n",
    "\n",
    "ROOT = Path.cwd() if Path.cwd().name == \"credit\" else Path.cwd().parent\n",
    "venv_python = ROOT/\".venv\"/\"Scripts\"/\"python.exe\"\n",
    "\n",
    "if not venv_python.exists():\n",
    "    print(\"Создаю .venv ...\")\n",
    "    subprocess.run([sys.executable, \"-m\", \"venv\", str(ROOT/\".venv\")], check=True)\n",
    "else:\n",
    "    print(\"Уже есть .venv\")\n",
    "\n",
    "print(\"Путь к .venv python:\", venv_python, \"существует:\", venv_python.exists())\n"
   ]
  },
  {
   "cell_type": "markdown",
   "id": "4ff386f8-8dbe-410a-97b1-ac90a12297ad",
   "metadata": {},
   "source": [
    "## Ставлю пакеты в .venv и регистрирую ядро Jupyter \"Python (credit)\"\n"
   ]
  },
  {
   "cell_type": "code",
   "execution_count": 15,
   "id": "b2b8ebaa-10e5-43f2-8fdf-1dc6da27efba",
   "metadata": {},
   "outputs": [
    {
     "name": "stdout",
     "output_type": "stream",
     "text": [
      "Установки завершены. В меню Kernel появится 'Python (credit)'.\n"
     ]
    }
   ],
   "source": [
    "import subprocess, sys\n",
    "from pathlib import Path\n",
    "\n",
    "ROOT = Path.cwd() if Path.cwd().name == \"credit\" else Path.cwd().parent\n",
    "venv_python = ROOT/\".venv\"/\"Scripts\"/\"python.exe\"\n",
    "\n",
    "assert venv_python.exists(), \"Не нашёл .venv\\\\Scripts\\\\python.exe\"\n",
    "\n",
    "# обновляю pip и ставлю зависимости\n",
    "subprocess.run([str(venv_python), \"-m\", \"pip\", \"install\", \"--upgrade\", \"pip\"], check=True)\n",
    "subprocess.run([str(venv_python), \"-m\", \"pip\", \"install\", \"-r\", str(ROOT/\"requirements.txt\")], check=True)\n",
    "\n",
    "# делаю видимое ядро Jupyter\n",
    "subprocess.run([str(venv_python), \"-m\", \"ipykernel\", \"install\", \"--user\",\n",
    "                \"--name\", \"credit-venv\", \"--display-name\", \"Python (credit)\"], check=True)\n",
    "\n",
    "print(\"Установки завершены. В меню Kernel появится 'Python (credit)'.\")\n"
   ]
  },
  {
   "cell_type": "markdown",
   "id": "21b36ffb-2056-4dd9-bbd1-4d2da49ff86f",
   "metadata": {},
   "source": [
    "## Переключаю ядро\n",
    "В Jupyter сверху: Kernel → Change Kernel → **Python (credit)**.\n",
    "Дальше проверка, что ноутбук реально работает из .venv.\n"
   ]
  },
  {
   "cell_type": "code",
   "execution_count": 5,
   "id": "1be10d42-acf5-4d10-be55-7b4016f38f08",
   "metadata": {},
   "outputs": [
    {
     "name": "stdout",
     "output_type": "stream",
     "text": [
      "C:\\Users\\USER\\Desktop\\credit\\.venv\\Scripts\\python.exe\n",
      "pandas 2.2.2 | sklearn 1.5.2 | pandera 0.18.3\n"
     ]
    }
   ],
   "source": [
    "import sys, pandas, sklearn, pandera\n",
    "print(sys.executable) \n",
    "print(\"pandas\", pandas.__version__, \"| sklearn\", sklearn.__version__, \"| pandera\", pandera.__version__)\n"
   ]
  },
  {
   "cell_type": "markdown",
   "id": "f81101af-27b7-4559-b799-154feb14c6da",
   "metadata": {},
   "source": [
    "## Git: первый коммит и пуш\n",
    "\n",
    "У меня уже есть пустой репозиторий на GitHub. Сейчас добавлю/пушну всё.\n",
    "\n"
   ]
  },
  {
   "cell_type": "code",
   "execution_count": 15,
   "id": "01e590ab-d86d-49b9-a237-5f6c7f7f91f1",
   "metadata": {},
   "outputs": [
    {
     "name": "stdout",
     "output_type": "stream",
     "text": [
      "> git rev-parse --is-inside-work-tree || git init \n",
      " true\n",
      "\n",
      "> git remote -v \n",
      " origin\thttps://github.com/pero1x1/credit.git (fetch)\n",
      "origin\thttps://github.com/pero1x1/credit.git (push)\n",
      "\n",
      "> git remote add origin https://github.com/pero1x1/credit.git \n",
      " error: remote origin already exists.\n",
      "\n",
      "> git config user.name \"pero1x1\" \n",
      " \n",
      "> git config user.email \"physss@yandex.ru\" \n",
      " \n",
      "> git add -A \n",
      " \n",
      "> git commit -m \"init: skeleton + env + notebook setup\" \n",
      " [main 9c765ec] init: skeleton + env + notebook setup\n",
      " 1 file changed, 1 deletion(-)\n",
      "\n",
      "> git branch -M main \n",
      " \n",
      "> git push -u origin main \n",
      " branch 'main' set up to track 'origin/main'.\n",
      "\n"
     ]
    },
    {
     "data": {
      "text/plain": [
       "CompletedProcess(args='git push -u origin main', returncode=0, stdout=\"branch 'main' set up to track 'origin/main'.\\n\", stderr='To https://github.com/pero1x1/credit.git\\n * [new branch]      main -> main\\n')"
      ]
     },
     "execution_count": 15,
     "metadata": {},
     "output_type": "execute_result"
    }
   ],
   "source": [
    "import subprocess, pathlib\n",
    "\n",
    "ROOT = pathlib.Path(r\"C:\\Users\\USER\\Desktop\\credit\")\n",
    "def sh(c): \n",
    "    r = subprocess.run(c, cwd=ROOT, shell=True, capture_output=True, text=True)\n",
    "    print(\">\", c, \"\\n\", r.stdout or r.stderr); return r\n",
    "\n",
    "sh(\"git rev-parse --is-inside-work-tree || git init\")\n",
    "sh(\"git remote -v\")\n",
    "sh(\"git remote add origin https://github.com/pero1x1/credit.git\")\n",
    "# sh(\"git remote set-url origin https://github.com/pero1x1/credit.git\")\n",
    "sh('git config user.name \"pero1x1\"')\n",
    "sh('git config user.email \"physss@yandex.ru\"')\n",
    "sh(\"git add -A\")\n",
    "sh('git commit -m \"init: skeleton + env + notebook setup\"')\n",
    "sh(\"git branch -M main\")\n",
    "sh(\"git push -u origin main\")\n"
   ]
  }
 ],
 "metadata": {
  "kernelspec": {
   "display_name": "Python (credit)",
   "language": "python",
   "name": "credit-venv"
  },
  "language_info": {
   "codemirror_mode": {
    "name": "ipython",
    "version": 3
   },
   "file_extension": ".py",
   "mimetype": "text/x-python",
   "name": "python",
   "nbconvert_exporter": "python",
   "pygments_lexer": "ipython3",
   "version": "3.12.4"
  }
 },
 "nbformat": 4,
 "nbformat_minor": 5
}
