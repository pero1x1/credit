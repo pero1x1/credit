{
 "cells": [
  {
   "cell_type": "markdown",
   "id": "3856dfe1-4e32-423e-81c0-d96f37efe359",
   "metadata": {},
   "source": [
    "# Шаг 1. Подготовка данных для PD-модели\n",
    "\n",
    "Что хочу сделать:\n",
    "1) Загрузить датасет из data/raw.\n",
    "2) Быстро глянуть структуру и целевую переменную.\n",
    "3) Провалидировать данные (Pandera).\n",
    "4) Разделить на train/test и сохранить в data/processed.\n",
    "5) Запушить изменения в репозиторий.\n"
   ]
  },
  {
   "cell_type": "code",
   "execution_count": 2,
   "id": "40a6e592-ce1e-4b9d-9c69-1874d66e1df9",
   "metadata": {},
   "outputs": [
    {
     "data": {
      "text/plain": [
       "(   ID  LIMIT_BAL  SEX  EDUCATION  MARRIAGE  AGE  PAY_0  PAY_2  PAY_3  PAY_4  \\\n",
       " 0   1    20000.0    2          2         1   24      2      2     -1     -1   \n",
       " 1   2   120000.0    2          2         2   26     -1      2      0      0   \n",
       " 2   3    90000.0    2          2         2   34      0      0      0      0   \n",
       " \n",
       "    ...  BILL_AMT4  BILL_AMT5  BILL_AMT6  PAY_AMT1  PAY_AMT2  PAY_AMT3  \\\n",
       " 0  ...        0.0        0.0        0.0       0.0     689.0       0.0   \n",
       " 1  ...     3272.0     3455.0     3261.0       0.0    1000.0    1000.0   \n",
       " 2  ...    14331.0    14948.0    15549.0    1518.0    1500.0    1000.0   \n",
       " \n",
       "    PAY_AMT4  PAY_AMT5  PAY_AMT6  default.payment.next.month  \n",
       " 0       0.0       0.0       0.0                           1  \n",
       " 1    1000.0       0.0    2000.0                           1  \n",
       " 2    1000.0    1000.0    5000.0                           0  \n",
       " \n",
       " [3 rows x 25 columns],\n",
       " (30000, 25))"
      ]
     },
     "execution_count": 2,
     "metadata": {},
     "output_type": "execute_result"
    }
   ],
   "source": [
    "from pathlib import Path\n",
    "import pandas as pd\n",
    "\n",
    "ROOT = Path.cwd() if Path.cwd().name == \"credit\" else Path.cwd().parent\n",
    "RAW = ROOT / \"data\" / \"raw\" / \"UCI_Credit_Card.csv\"\n",
    "\n",
    "assert RAW.exists(), f\"Положи файл сюда: {RAW}\"\n",
    "\n",
    "df = pd.read_csv(RAW)\n",
    "df.head(3), df.shape\n"
   ]
  },
  {
   "cell_type": "markdown",
   "id": "7c8c771b-1672-4bd0-b93f-32fc1153bcd6",
   "metadata": {},
   "source": [
    "## Короткий EDA (без графиков)\n",
    "Посмотрю столбцы, пропуски и баланс классов.\n"
   ]
  },
  {
   "cell_type": "code",
   "execution_count": 7,
   "id": "0c999548-040f-4443-8fde-7fd90d82c8ce",
   "metadata": {},
   "outputs": [
    {
     "data": {
      "text/plain": [
       "ID             int64\n",
       "LIMIT_BAL    float64\n",
       "SEX            int64\n",
       "EDUCATION      int64\n",
       "MARRIAGE       int64\n",
       "AGE            int64\n",
       "PAY_0          int64\n",
       "PAY_2          int64\n",
       "PAY_3          int64\n",
       "PAY_4          int64\n",
       "dtype: object"
      ]
     },
     "execution_count": 7,
     "metadata": {},
     "output_type": "execute_result"
    }
   ],
   "source": [
    "pd.Series(df.dtypes).head(10)\n"
   ]
  },
  {
   "cell_type": "code",
   "execution_count": 9,
   "id": "6cd2e145-2531-402c-aabc-8d7ea619efac",
   "metadata": {},
   "outputs": [
    {
     "data": {
      "text/plain": [
       "(ID           0\n",
       " BILL_AMT2    0\n",
       " PAY_AMT6     0\n",
       " PAY_AMT5     0\n",
       " PAY_AMT4     0\n",
       " PAY_AMT3     0\n",
       " PAY_AMT2     0\n",
       " PAY_AMT1     0\n",
       " BILL_AMT6    0\n",
       " BILL_AMT5    0\n",
       " dtype: int64,\n",
       " 0)"
      ]
     },
     "execution_count": 9,
     "metadata": {},
     "output_type": "execute_result"
    }
   ],
   "source": [
    "(df.isna().sum().sort_values(ascending=False).head(10), df.isna().sum().sum())\n"
   ]
  },
  {
   "cell_type": "markdown",
   "id": "711c8a8b-e4c8-4faf-b217-b6ca0cb52c8d",
   "metadata": {},
   "source": [
    "target = \"default.payment.next.month\"\n",
    "df[target].value_counts(), df[target].value_counts(normalize=True).round(3)\n"
   ]
  },
  {
   "cell_type": "markdown",
   "id": "0b5a495f-c24d-4eb0-bda8-d792b144e66d",
   "metadata": {},
   "source": [
    "## Валидация Pandera\n",
    "Проверю базовые вещи: LIMIT_BAL >= 0, SEX ∈ {1,2}, AGE в [18..100], target ∈ {0,1}.\n"
   ]
  },
  {
   "cell_type": "code",
   "execution_count": 14,
   "id": "0ae9ae64-be70-4154-b146-f62536f08f8e",
   "metadata": {},
   "outputs": [
    {
     "data": {
      "text/plain": [
       "(30000, 25)"
      ]
     },
     "execution_count": 14,
     "metadata": {},
     "output_type": "execute_result"
    }
   ],
   "source": [
    "import pandera as pa\n",
    "from pandera import Column, DataFrameSchema, Check\n",
    "\n",
    "schema = DataFrameSchema({\n",
    "    \"LIMIT_BAL\": Column(pa.Int64, Check.ge(0)),\n",
    "    \"SEX\": Column(pa.Int64, Check.isin([1, 2])),\n",
    "    \"EDUCATION\": Column(pa.Int64),\n",
    "    \"MARRIAGE\": Column(pa.Int64),\n",
    "    \"AGE\": Column(pa.Int64, Check.between(18, 100)),\n",
    "    \"default.payment.next.month\": Column(pa.Int64, Check.isin([0, 1])),\n",
    "}, coerce=True)\n",
    "\n",
    "df_valid = schema.validate(df, lazy=True)\n",
    "df_valid.shape\n"
   ]
  },
  {
   "cell_type": "markdown",
   "id": "02644308-9bcd-498e-8315-e7249ae8c288",
   "metadata": {},
   "source": [
    "## Train/Test split и сохранение\n",
    "Сделаю стратификацию по целевой переменной.\n"
   ]
  },
  {
   "cell_type": "code",
   "execution_count": 21,
   "id": "922e5b8b-17d5-40e5-9b41-c87280eb40d7",
   "metadata": {},
   "outputs": [
    {
     "data": {
      "text/plain": [
       "((24000, 25), (6000, 25))"
      ]
     },
     "execution_count": 21,
     "metadata": {},
     "output_type": "execute_result"
    }
   ],
   "source": [
    "from sklearn.model_selection import train_test_split\n",
    "\n",
    "X = df_valid.drop(columns=[target])\n",
    "y = df_valid[target]\n",
    "\n",
    "X_train, X_test, y_train, y_test = train_test_split(\n",
    "    X, y, test_size=0.2, random_state=42, stratify=y\n",
    ")\n",
    "\n",
    "train = pd.concat([X_train, y_train], axis=1)\n",
    "test  = pd.concat([X_test, y_test], axis=1)\n",
    "\n",
    "PROC = ROOT / \"data\" / \"processed\"\n",
    "PROC.mkdir(parents=True, exist_ok=True)\n",
    "train.to_csv(PROC / \"train.csv\", index=False)\n",
    "test.to_csv(PROC / \"test.csv\", index=False)\n",
    "\n",
    "train.shape, test.shape\n"
   ]
  },
  {
   "cell_type": "code",
   "execution_count": null,
   "id": "b2f8a52e-ded8-401c-9fd2-00fe850da9e5",
   "metadata": {},
   "outputs": [],
   "source": [
    "## Сохраню такой же код отдельным скриптом (для DVC)\n",
    "Файл: `src/data/make_dataset.py`.\n"
   ]
  }
 ],
 "metadata": {
  "kernelspec": {
   "display_name": "Python (credit)",
   "language": "python",
   "name": "credit-venv"
  },
  "language_info": {
   "codemirror_mode": {
    "name": "ipython",
    "version": 3
   },
   "file_extension": ".py",
   "mimetype": "text/x-python",
   "name": "python",
   "nbconvert_exporter": "python",
   "pygments_lexer": "ipython3",
   "version": "3.12.4"
  }
 },
 "nbformat": 4,
 "nbformat_minor": 5
}
