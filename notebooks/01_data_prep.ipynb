{
 "cells": [
  {
   "cell_type": "markdown",
   "id": "3856dfe1-4e32-423e-81c0-d96f37efe359",
   "metadata": {},
   "source": [
    "# Шаг 1. Подготовка данных для PD-модели\n",
    "\n",
    "Что хочу сделать:\n",
    "1) Загрузить датасет из data/raw.\n",
    "2) Быстро глянуть структуру и целевую переменную.\n",
    "3) Провалидировать данные (Pandera).\n",
    "4) Разделить на train/test и сохранить в data/processed.\n",
    "5) Запушить изменения в репозиторий.\n"
   ]
  },
  {
   "cell_type": "code",
   "execution_count": 2,
   "id": "40a6e592-ce1e-4b9d-9c69-1874d66e1df9",
   "metadata": {},
   "outputs": [
    {
     "data": {
      "text/plain": [
       "(   ID  LIMIT_BAL  SEX  EDUCATION  MARRIAGE  AGE  PAY_0  PAY_2  PAY_3  PAY_4  \\\n",
       " 0   1    20000.0    2          2         1   24      2      2     -1     -1   \n",
       " 1   2   120000.0    2          2         2   26     -1      2      0      0   \n",
       " 2   3    90000.0    2          2         2   34      0      0      0      0   \n",
       " \n",
       "    ...  BILL_AMT4  BILL_AMT5  BILL_AMT6  PAY_AMT1  PAY_AMT2  PAY_AMT3  \\\n",
       " 0  ...        0.0        0.0        0.0       0.0     689.0       0.0   \n",
       " 1  ...     3272.0     3455.0     3261.0       0.0    1000.0    1000.0   \n",
       " 2  ...    14331.0    14948.0    15549.0    1518.0    1500.0    1000.0   \n",
       " \n",
       "    PAY_AMT4  PAY_AMT5  PAY_AMT6  default.payment.next.month  \n",
       " 0       0.0       0.0       0.0                           1  \n",
       " 1    1000.0       0.0    2000.0                           1  \n",
       " 2    1000.0    1000.0    5000.0                           0  \n",
       " \n",
       " [3 rows x 25 columns],\n",
       " (30000, 25))"
      ]
     },
     "execution_count": 2,
     "metadata": {},
     "output_type": "execute_result"
    }
   ],
   "source": [
    "from pathlib import Path\n",
    "import pandas as pd\n",
    "\n",
    "ROOT = Path.cwd() if Path.cwd().name == \"credit\" else Path.cwd().parent\n",
    "RAW = ROOT / \"data\" / \"raw\" / \"UCI_Credit_Card.csv\"\n",
    "\n",
    "assert RAW.exists(), f\"Положи файл сюда: {RAW}\"\n",
    "\n",
    "df = pd.read_csv(RAW)\n",
    "df.head(3), df.shape\n"
   ]
  },
  {
   "cell_type": "markdown",
   "id": "7c8c771b-1672-4bd0-b93f-32fc1153bcd6",
   "metadata": {},
   "source": [
    "## Короткий EDA (без графиков)\n",
    "Посмотрю столбцы, пропуски и баланс классов.\n"
   ]
  },
  {
   "cell_type": "code",
   "execution_count": 7,
   "id": "0c999548-040f-4443-8fde-7fd90d82c8ce",
   "metadata": {},
   "outputs": [
    {
     "data": {
      "text/plain": [
       "ID             int64\n",
       "LIMIT_BAL    float64\n",
       "SEX            int64\n",
       "EDUCATION      int64\n",
       "MARRIAGE       int64\n",
       "AGE            int64\n",
       "PAY_0          int64\n",
       "PAY_2          int64\n",
       "PAY_3          int64\n",
       "PAY_4          int64\n",
       "dtype: object"
      ]
     },
     "execution_count": 7,
     "metadata": {},
     "output_type": "execute_result"
    }
   ],
   "source": [
    "pd.Series(df.dtypes).head(10)\n"
   ]
  },
  {
   "cell_type": "code",
   "execution_count": 9,
   "id": "6cd2e145-2531-402c-aabc-8d7ea619efac",
   "metadata": {},
   "outputs": [
    {
     "data": {
      "text/plain": [
       "(ID           0\n",
       " BILL_AMT2    0\n",
       " PAY_AMT6     0\n",
       " PAY_AMT5     0\n",
       " PAY_AMT4     0\n",
       " PAY_AMT3     0\n",
       " PAY_AMT2     0\n",
       " PAY_AMT1     0\n",
       " BILL_AMT6    0\n",
       " BILL_AMT5    0\n",
       " dtype: int64,\n",
       " 0)"
      ]
     },
     "execution_count": 9,
     "metadata": {},
     "output_type": "execute_result"
    }
   ],
   "source": [
    "(df.isna().sum().sort_values(ascending=False).head(10), df.isna().sum().sum())\n"
   ]
  },
  {
   "cell_type": "code",
   "execution_count": 34,
   "id": "16bcbc0a-6f24-485c-844b-0eb1854cf005",
   "metadata": {},
   "outputs": [
    {
     "data": {
      "text/plain": [
       "(default.payment.next.month\n",
       " 0    23364\n",
       " 1     6636\n",
       " Name: count, dtype: int64,\n",
       " default.payment.next.month\n",
       " 0    0.779\n",
       " 1    0.221\n",
       " Name: proportion, dtype: float64)"
      ]
     },
     "execution_count": 34,
     "metadata": {},
     "output_type": "execute_result"
    }
   ],
   "source": [
    "target = \"default.payment.next.month\"\n",
    "df[target].value_counts(), df[target].value_counts(normalize=True).round(3)\n"
   ]
  },
  {
   "cell_type": "markdown",
   "id": "0b5a495f-c24d-4eb0-bda8-d792b144e66d",
   "metadata": {},
   "source": [
    "## Валидация Pandera\n",
    "Проверю базовые вещи: LIMIT_BAL >= 0, SEX ∈ {1,2}, AGE в [18..100], target ∈ {0,1}.\n"
   ]
  },
  {
   "cell_type": "code",
   "execution_count": 36,
   "id": "0ae9ae64-be70-4154-b146-f62536f08f8e",
   "metadata": {},
   "outputs": [
    {
     "data": {
      "text/plain": [
       "(30000, 25)"
      ]
     },
     "execution_count": 36,
     "metadata": {},
     "output_type": "execute_result"
    }
   ],
   "source": [
    "import pandera as pa\n",
    "from pandera import Column, DataFrameSchema, Check\n",
    "\n",
    "schema = DataFrameSchema({\n",
    "    \"LIMIT_BAL\": Column(pa.Int64, Check.ge(0)),\n",
    "    \"SEX\": Column(pa.Int64, Check.isin([1, 2])),\n",
    "    \"EDUCATION\": Column(pa.Int64),\n",
    "    \"MARRIAGE\": Column(pa.Int64),\n",
    "    \"AGE\": Column(pa.Int64, Check.between(18, 100)),\n",
    "    \"default.payment.next.month\": Column(pa.Int64, Check.isin([0, 1])),\n",
    "}, coerce=True)\n",
    "\n",
    "df_valid = schema.validate(df, lazy=True)\n",
    "df_valid.shape\n"
   ]
  },
  {
   "cell_type": "markdown",
   "id": "02644308-9bcd-498e-8315-e7249ae8c288",
   "metadata": {},
   "source": [
    "## Train/Test split и сохранение\n",
    "Сделаю стратификацию по целевой переменной.\n"
   ]
  },
  {
   "cell_type": "code",
   "execution_count": 38,
   "id": "922e5b8b-17d5-40e5-9b41-c87280eb40d7",
   "metadata": {},
   "outputs": [
    {
     "data": {
      "text/plain": [
       "((24000, 25), (6000, 25))"
      ]
     },
     "execution_count": 38,
     "metadata": {},
     "output_type": "execute_result"
    }
   ],
   "source": [
    "from sklearn.model_selection import train_test_split\n",
    "\n",
    "X = df_valid.drop(columns=[target])\n",
    "y = df_valid[target]\n",
    "\n",
    "X_train, X_test, y_train, y_test = train_test_split(\n",
    "    X, y, test_size=0.2, random_state=42, stratify=y\n",
    ")\n",
    "\n",
    "train = pd.concat([X_train, y_train], axis=1)\n",
    "test  = pd.concat([X_test, y_test], axis=1)\n",
    "\n",
    "PROC = ROOT / \"data\" / \"processed\"\n",
    "PROC.mkdir(parents=True, exist_ok=True)\n",
    "train.to_csv(PROC / \"train.csv\", index=False)\n",
    "test.to_csv(PROC / \"test.csv\", index=False)\n",
    "\n",
    "train.shape, test.shape\n"
   ]
  },
  {
   "cell_type": "markdown",
   "id": "1acaf1bc-d010-400f-863c-63a455cf5cd1",
   "metadata": {},
   "source": [
    "## Сохраню такой же код отдельным скриптом (для DVC)\n",
    "Файл: `src/data/make_dataset.py`.\n"
   ]
  },
  {
   "cell_type": "code",
   "execution_count": 40,
   "id": "a8f2fcf6-23fc-497c-af90-4415b3b5693e",
   "metadata": {},
   "outputs": [
    {
     "data": {
      "text/plain": [
       "WindowsPath('C:/Users/USER/Desktop/credit/src/data/make_dataset.py')"
      ]
     },
     "execution_count": 40,
     "metadata": {},
     "output_type": "execute_result"
    }
   ],
   "source": [
    "from textwrap import dedent\n",
    "\n",
    "code = dedent(\"\"\"\\\n",
    "import argparse\n",
    "from pathlib import Path\n",
    "import pandas as pd\n",
    "import pandera as pa\n",
    "from pandera import Column, DataFrameSchema, Check\n",
    "from sklearn.model_selection import train_test_split\n",
    "\n",
    "TARGET = \"default.payment.next.month\"\n",
    "\n",
    "def validate(df: pd.DataFrame) -> pd.DataFrame:\n",
    "    schema = DataFrameSchema({\n",
    "        \"LIMIT_BAL\": Column(pa.Int64, Check.ge(0)),\n",
    "        \"SEX\": Column(pa.Int64, Check.isin([1, 2])),\n",
    "        \"EDUCATION\": Column(pa.Int64),\n",
    "        \"MARRIAGE\": Column(pa.Int64),\n",
    "        \"AGE\": Column(pa.Int64, Check.between(18, 100)),\n",
    "        TARGET: Column(pa.Int64, Check.isin([0, 1])),\n",
    "    }, coerce=True)\n",
    "    return schema.validate(df, lazy=True)\n",
    "\n",
    "def main(raw_path: str, out_dir: str, test_size: float = 0.2, seed: int = 42):\n",
    "    raw_path, out_dir = Path(raw_path), Path(out_dir)\n",
    "    out_dir.mkdir(parents=True, exist_ok=True)\n",
    "    df = pd.read_csv(raw_path)\n",
    "    df = validate(df)\n",
    "    X = df.drop(columns=[TARGET])\n",
    "    y = df[TARGET]\n",
    "    X_train, X_test, y_train, y_test = train_test_split(\n",
    "        X, y, test_size=test_size, random_state=seed, stratify=y\n",
    "    )\n",
    "    train = pd.concat([X_train, y_train], axis=1)\n",
    "    test = pd.concat([X_test, y_test], axis=1)\n",
    "    train.to_csv(out_dir / \"train.csv\", index=False)\n",
    "    test.to_csv(out_dir / \"test.csv\", index=False)\n",
    "    print(\"Prepared: data/processed/train.csv, data/processed/test.csv\")\n",
    "\n",
    "if __name__ == \"__main__\":\n",
    "    p = argparse.ArgumentParser()\n",
    "    p.add_argument(\"--raw\", default=\"data/raw/UCI_Credit_Card.csv\")\n",
    "    p.add_argument(\"--out\", default=\"data/processed\")\n",
    "    args = p.parse_args()\n",
    "    main(args.raw, args.out)\n",
    "\"\"\")\n",
    "\n",
    "path = ROOT / \"src\" / \"data\" / \"make_dataset.py\"\n",
    "path.write_text(code, encoding=\"utf-8\")\n",
    "path\n"
   ]
  },
  {
   "cell_type": "markdown",
   "id": "460637bd-baeb-47b1-ad03-90145bcbfe8f",
   "metadata": {},
   "source": [
    "## Git: коммит и пуш этого шага\n"
   ]
  },
  {
   "cell_type": "code",
   "execution_count": 42,
   "id": "05558508-64a2-448b-9f6c-8b3b013568db",
   "metadata": {},
   "outputs": [
    {
     "name": "stdout",
     "output_type": "stream",
     "text": [
      "> git add -A \n",
      " warning: in the working copy of 'notebooks/01_data_prep.ipynb', LF will be replaced by CRLF the next time Git touches it\n",
      "\n",
      "> git commit -m \"feat(data): EDA + Pandera validation + train/test split + make_dataset.py\" \n",
      " [main aff2a78] feat(data): EDA + Pandera validation + train/test split + make_dataset.py\n",
      " 1 file changed, 138 insertions(+), 4 deletions(-)\n",
      "\n",
      "> git push \n",
      " To https://github.com/pero1x1/credit.git\n",
      "   cab6e96..aff2a78  main -> main\n",
      "\n"
     ]
    },
    {
     "data": {
      "text/plain": [
       "CompletedProcess(args='git push', returncode=0, stdout='', stderr='To https://github.com/pero1x1/credit.git\\n   cab6e96..aff2a78  main -> main\\n')"
      ]
     },
     "execution_count": 42,
     "metadata": {},
     "output_type": "execute_result"
    }
   ],
   "source": [
    "import subprocess, pathlib\n",
    "\n",
    "def sh(cmd):\n",
    "    r = subprocess.run(cmd, cwd=ROOT, shell=True, text=True, capture_output=True)\n",
    "    print(\">\", cmd, \"\\n\", r.stdout or r.stderr)\n",
    "    return r\n",
    "\n",
    "sh(\"git add -A\")\n",
    "sh('git commit -m \"feat(data): EDA + Pandera validation + train/test split + make_dataset.py\"')\n",
    "sh(\"git push\")\n"
   ]
  },
  {
   "cell_type": "code",
   "execution_count": null,
   "id": "ff3b6fff-79f5-41e2-94f4-f84ac4ed5afa",
   "metadata": {},
   "outputs": [],
   "source": []
  }
 ],
 "metadata": {
  "kernelspec": {
   "display_name": "Python (credit)",
   "language": "python",
   "name": "credit-venv"
  },
  "language_info": {
   "codemirror_mode": {
    "name": "ipython",
    "version": 3
   },
   "file_extension": ".py",
   "mimetype": "text/x-python",
   "name": "python",
   "nbconvert_exporter": "python",
   "pygments_lexer": "ipython3",
   "version": "3.12.4"
  }
 },
 "nbformat": 4,
 "nbformat_minor": 5
}
