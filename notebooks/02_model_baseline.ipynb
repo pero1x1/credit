{
 "cells": [
  {
   "cell_type": "markdown",
   "id": "4353eaea-a84e-4d7d-aec1-5d021e1558e5",
   "metadata": {},
   "source": [
    "# Шаг 2. Baseline-модель (pipeline + метрики)\n",
    "\n",
    "Цель: собрать sklearn Pipeline (импьютер, скейлер, one-hot) и обучить простую модель.\n",
    "Сравню LogisticRegression и GradientBoosting, выберу лучшую по ROC-AUC.\n",
    "Сохраню модель и ROC-кривую в папку models/.\n"
   ]
  },
  {
   "cell_type": "code",
   "execution_count": 2,
   "id": "219b3186-8d11-4f12-8713-a1be9b72371b",
   "metadata": {},
   "outputs": [
    {
     "name": "stdout",
     "output_type": "stream",
     "text": [
      "Note: you may need to restart the kernel to use updated packages.\n"
     ]
    }
   ],
   "source": [
    "%pip install -q matplotlib\n"
   ]
  },
  {
   "cell_type": "markdown",
   "id": "eab0f648-c39b-4ef8-8f00-390209e75dd5",
   "metadata": {},
   "source": [
    "## 1) Загружаю train/test\n",
    "Важно: убираю колонку ID.\n"
   ]
  },
  {
   "cell_type": "code",
   "execution_count": 1,
   "id": "17f9ad8a-fc4d-4306-9a16-b0b9d90ab604",
   "metadata": {},
   "outputs": [
    {
     "data": {
      "text/plain": [
       "((24000, 23), (6000, 23))"
      ]
     },
     "execution_count": 1,
     "metadata": {},
     "output_type": "execute_result"
    }
   ],
   "source": [
    "from pathlib import Path\n",
    "import pandas as pd\n",
    "\n",
    "ROOT = Path.cwd() if Path.cwd().name == \"credit\" else Path.cwd().parent\n",
    "PROC = ROOT / \"data\" / \"processed\"\n",
    "\n",
    "train = pd.read_csv(PROC / \"train.csv\")\n",
    "test  = pd.read_csv(PROC / \"test.csv\")\n",
    "\n",
    "TARGET = \"default.payment.next.month\"\n",
    "\n",
    "for df in (train, test):\n",
    "    if \"ID\" in df.columns:\n",
    "        df.drop(columns=[\"ID\"], inplace=True)\n",
    "\n",
    "X_train, y_train = train.drop(columns=[TARGET]), train[TARGET]\n",
    "X_test,  y_test  = test.drop(columns=[TARGET]),  test[TARGET]\n",
    "\n",
    "X_train.shape, X_test.shape\n"
   ]
  },
  {
   "cell_type": "markdown",
   "id": "9970f84f-2aa8-4914-9e6a-28432e6d10b1",
   "metadata": {},
   "source": [
    "## 2) Фичи и препроцессинг\n",
    "Категориальные: SEX, EDUCATION, MARRIAGE и все PAY_*.\n",
    "Численные: всё остальное.\n"
   ]
  },
  {
   "cell_type": "code",
   "execution_count": 4,
   "id": "9a185341-eb17-4581-a58c-b059a1dcd09c",
   "metadata": {},
   "outputs": [
    {
     "data": {
      "text/plain": [
       "(8, 15)"
      ]
     },
     "execution_count": 4,
     "metadata": {},
     "output_type": "execute_result"
    }
   ],
   "source": [
    "from sklearn.pipeline import Pipeline\n",
    "from sklearn.compose import ColumnTransformer\n",
    "from sklearn.impute import SimpleImputer\n",
    "from sklearn.preprocessing import OneHotEncoder, StandardScaler\n",
    "\n",
    "all_cols = X_train.columns.tolist()\n",
    "cat_cols = [c for c in [\"SEX\", \"EDUCATION\", \"MARRIAGE\"] if c in all_cols] + \\\n",
    "           [c for c in all_cols if c.startswith(\"PAY_\")]\n",
    "cat_cols = sorted(list(dict.fromkeys(cat_cols)))  # уникальные + порядок\n",
    "num_cols = [c for c in all_cols if c not in cat_cols]\n",
    "\n",
    "numeric_tf = Pipeline([\n",
    "    (\"imputer\", SimpleImputer(strategy=\"median\")),\n",
    "    (\"scaler\", StandardScaler())\n",
    "])\n",
    "categorical_tf = Pipeline([\n",
    "    (\"imputer\", SimpleImputer(strategy=\"most_frequent\")),\n",
    "    (\"onehot\", OneHotEncoder(handle_unknown=\"ignore\"))\n",
    "])\n",
    "\n",
    "preprocess = ColumnTransformer([\n",
    "    (\"num\", numeric_tf, num_cols),\n",
    "    (\"cat\", categorical_tf, cat_cols)\n",
    "])\n",
    "len(num_cols), len(cat_cols)\n"
   ]
  },
  {
   "cell_type": "markdown",
   "id": "b11867e1-8407-424e-90a9-23b960801c68",
   "metadata": {},
   "source": [
    "## 3) Обучение с GridSearchCV\n",
    "Две модели: LogisticRegression и GradientBoosting. Метрика — ROC-AUC.\n"
   ]
  },
  {
   "cell_type": "code",
   "execution_count": 7,
   "id": "8036ef68-f0e1-4ea9-8257-e30c58f94ef0",
   "metadata": {},
   "outputs": [
    {
     "data": {
      "text/plain": [
       "({'clf': GradientBoostingClassifier(),\n",
       "  'clf__learning_rate': 0.1,\n",
       "  'clf__n_estimators': 150},\n",
       " 0.7789)"
      ]
     },
     "execution_count": 7,
     "metadata": {},
     "output_type": "execute_result"
    }
   ],
   "source": [
    "from sklearn.linear_model import LogisticRegression\n",
    "from sklearn.ensemble import GradientBoostingClassifier\n",
    "from sklearn.model_selection import GridSearchCV\n",
    "\n",
    "pipe = Pipeline([\n",
    "    (\"preprocess\", preprocess),\n",
    "    (\"clf\", LogisticRegression(max_iter=500))\n",
    "])\n",
    "\n",
    "param_grid = [\n",
    "    {\"clf\": [LogisticRegression(max_iter=500)],\n",
    "     \"clf__C\": [0.3, 1.0, 3.0],\n",
    "     \"clf__solver\": [\"lbfgs\"]},\n",
    "    {\"clf\": [GradientBoostingClassifier()],\n",
    "     \"clf__n_estimators\": [150, 250],\n",
    "     \"clf__learning_rate\": [0.05, 0.1]}\n",
    "]\n",
    "\n",
    "gs = GridSearchCV(\n",
    "    pipe, param_grid=param_grid,\n",
    "    scoring=\"roc_auc\", cv=5, n_jobs=-1, verbose=0\n",
    ")\n",
    "gs.fit(X_train, y_train)\n",
    "\n",
    "gs.best_params_, round(gs.best_score_, 4)\n"
   ]
  },
  {
   "cell_type": "markdown",
   "id": "b044b6ba-3a62-412c-99bd-3f3e1bdaa575",
   "metadata": {},
   "source": [
    "## 4) Оценка на тесте + ROC-кривая\n",
    "Посчитаю ROC-AUC, Precision, Recall, F1 и сохраню график.\n"
   ]
  },
  {
   "cell_type": "code",
   "execution_count": 12,
   "id": "6a916bd5-0476-42ff-b614-a30b7b6d7098",
   "metadata": {},
   "outputs": [
    {
     "data": {
      "text/plain": [
       "{'model': 'GradientBoostingClassifier',\n",
       " 'model_params': {'learning_rate': 0.1, 'n_estimators': 150},\n",
       " 'roc_auc': 0.7705572956671517,\n",
       " 'precision': 0.6647230320699709,\n",
       " 'recall': 0.3436322532027129,\n",
       " 'f1': 0.45305514157973176}"
      ]
     },
     "execution_count": 12,
     "metadata": {},
     "output_type": "execute_result"
    }
   ],
   "source": [
    "from sklearn.metrics import roc_auc_score, precision_score, recall_score, f1_score, roc_curve\n",
    "import matplotlib.pyplot as plt\n",
    "import json, joblib\n",
    "from pathlib import Path\n",
    "\n",
    "best = gs.best_estimator_\n",
    "model_name = type(best.named_steps[\"clf\"]).__name__\n",
    "best_model_params = {k.replace(\"clf__\", \"\"): v\n",
    "                     for k, v in gs.best_params_.items()\n",
    "                     if k.startswith(\"clf__\")}  # только гиперы модели\n",
    "\n",
    "y_proba = best.predict_proba(X_test)[:, 1]\n",
    "y_pred  = best.predict(X_test)\n",
    "\n",
    "metrics = {\n",
    "    \"model\": model_name,\n",
    "    \"model_params\": best_model_params,  # здесь уже нет несериализуемых объектов\n",
    "    \"roc_auc\": float(roc_auc_score(y_test, y_proba)),\n",
    "    \"precision\": float(precision_score(y_test, y_pred)),\n",
    "    \"recall\": float(recall_score(y_test, y_pred)),\n",
    "    \"f1\": float(f1_score(y_test, y_pred)),\n",
    "}\n",
    "\n",
    "models_dir = ROOT / \"models\"\n",
    "models_dir.mkdir(exist_ok=True, parents=True)\n",
    "\n",
    "# ROC-кривая\n",
    "fpr, tpr, _ = roc_curve(y_test, y_proba)\n",
    "plt.figure(figsize=(5,4))\n",
    "plt.plot(fpr, tpr, label=f\"{model_name} | AUC={metrics['roc_auc']:.3f}\")\n",
    "plt.plot([0,1],[0,1],\"--\")\n",
    "plt.xlabel(\"FPR\"); plt.ylabel(\"TPR\"); plt.title(\"ROC curve (test)\")\n",
    "plt.legend(loc=\"lower right\"); plt.tight_layout()\n",
    "plt.savefig(models_dir / \"roc_curve.png\", dpi=150); plt.close()\n",
    "\n",
    "# Сохраняю модель и метрики\n",
    "joblib.dump(best, models_dir / \"credit_default_model.pkl\")\n",
    "(Path(models_dir / \"metrics.json\")).write_text(json.dumps(metrics, indent=2), encoding=\"utf-8\")\n",
    "\n",
    "metrics  # посмотрю, что получилось\n"
   ]
  },
  {
   "cell_type": "markdown",
   "id": "06637ae7-dfac-4b10-8c3a-ea9528c92536",
   "metadata": {},
   "source": [
    "## 5) Итог по шагу\n",
    "— Лучшая модель и её параметры в metrics.json  \n",
    "— ROC-кривая: models/roc_curve.png  \n",
    "— Модель: models/credit_default_model.pkl\n"
   ]
  },
  {
   "cell_type": "markdown",
   "id": "1e1a252d-4144-4093-a595-8df736858201",
   "metadata": {},
   "source": [
    "## Git: коммит и пуш\n",
    "Удалю лишний `$null` и запушу всё, чтобы был полный трек.\n"
   ]
  },
  {
   "cell_type": "code",
   "execution_count": 16,
   "id": "3786d48f-331b-4da6-87aa-90609afb1f14",
   "metadata": {},
   "outputs": [
    {
     "name": "stdout",
     "output_type": "stream",
     "text": [
      "> git rm -f --cached \"$null\" \n",
      " rm '$null'\n",
      "\n",
      "> git add -A \n",
      " warning: in the working copy of 'notebooks/01_data_prep.ipynb', LF will be replaced by CRLF the next time Git touches it\n",
      "warning: in the working copy of 'notebooks/02_model_baseline.ipynb', LF will be replaced by CRLF the next time Git touches it\n",
      "\n",
      "> git commit -m \"feat(model): baseline pipeline + GridSearch + metrics + ROC plot; chore: remove $null\" \n",
      " [main a69187a] feat(model): baseline pipeline + GridSearch + metrics + ROC plot; chore: remove $null\n",
      " 6 files changed, 363 insertions(+), 18 deletions(-)\n",
      " delete mode 100644 $null\n",
      " create mode 100644 models/credit_default_model.pkl\n",
      " create mode 100644 models/metrics.json\n",
      " create mode 100644 models/roc_curve.png\n",
      " create mode 100644 notebooks/02_model_baseline.ipynb\n",
      "\n",
      "> git push \n",
      " To https://github.com/pero1x1/credit.git\n",
      "   aff2a78..a69187a  main -> main\n",
      "\n"
     ]
    },
    {
     "data": {
      "text/plain": [
       "CompletedProcess(args='git push', returncode=0, stdout='', stderr='To https://github.com/pero1x1/credit.git\\n   aff2a78..a69187a  main -> main\\n')"
      ]
     },
     "execution_count": 16,
     "metadata": {},
     "output_type": "execute_result"
    }
   ],
   "source": [
    "import subprocess, pathlib\n",
    "\n",
    "def sh(c):\n",
    "    r = subprocess.run(c, cwd=ROOT, shell=True, text=True, capture_output=True)\n",
    "    print(\">\", c, \"\\n\", r.stdout or r.stderr); \n",
    "    return r\n",
    "\n",
    "if (ROOT/\"$null\").exists():\n",
    "    try:\n",
    "        (ROOT/\"$null\").unlink()\n",
    "    except: \n",
    "        pass\n",
    "    sh('git rm -f --cached \"$null\"')\n",
    "\n",
    "sh(\"git add -A\")\n",
    "sh('git commit -m \"feat(model): baseline pipeline + GridSearch + metrics + ROC plot; chore: remove $null\"')\n",
    "sh(\"git push\")\n"
   ]
  }
 ],
 "metadata": {
  "kernelspec": {
   "display_name": "Python (credit)",
   "language": "python",
   "name": "credit-venv"
  },
  "language_info": {
   "codemirror_mode": {
    "name": "ipython",
    "version": 3
   },
   "file_extension": ".py",
   "mimetype": "text/x-python",
   "name": "python",
   "nbconvert_exporter": "python",
   "pygments_lexer": "ipython3",
   "version": "3.12.4"
  }
 },
 "nbformat": 4,
 "nbformat_minor": 5
}
