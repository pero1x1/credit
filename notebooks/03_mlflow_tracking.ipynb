{
 "cells": [
  {
   "cell_type": "markdown",
   "id": "24b7fc9c-0de9-49aa-b20e-ccfee6bfadde",
   "metadata": {},
   "source": [
    "# Шаг 3. MLflow Tracking (эксперименты)\n",
    "\n",
    "Цель: залогировать 5+ экспериментов с разными моделями/гиперами.\n",
    "Логирую: параметры, метрики (roc_auc, precision, recall, f1), ROC-кривую и модель.\n"
   ]
  },
  {
   "cell_type": "code",
   "execution_count": 1,
   "id": "b1eac519-8e29-40b4-8f04-83a95e9b624a",
   "metadata": {},
   "outputs": [
    {
     "name": "stdout",
     "output_type": "stream",
     "text": [
      "Note: you may need to restart the kernel to use updated packages.\n"
     ]
    },
    {
     "name": "stderr",
     "output_type": "stream",
     "text": [
      "C:\\Users\\USER\\Desktop\\credit\\.venv\\Lib\\site-packages\\mlflow\\utils\\requirements_utils.py:20: UserWarning: pkg_resources is deprecated as an API. See https://setuptools.pypa.io/en/latest/pkg_resources.html. The pkg_resources package is slated for removal as early as 2025-11-30. Refrain from using this package or pin to Setuptools<81.\n",
      "  import pkg_resources  # noqa: TID251\n"
     ]
    }
   ],
   "source": [
    "%pip install -q mlflow==2.14.1 matplotlib\n",
    "\n",
    "import mlflow, mlflow.sklearn\n",
    "from pathlib import Path\n",
    "import pandas as pd\n",
    "import matplotlib.pyplot as plt\n",
    "\n",
    "from sklearn.pipeline import Pipeline\n",
    "from sklearn.compose import ColumnTransformer\n",
    "from sklearn.impute import SimpleImputer\n",
    "from sklearn.preprocessing import OneHotEncoder, StandardScaler\n",
    "from sklearn.linear_model import LogisticRegression\n",
    "from sklearn.ensemble import GradientBoostingClassifier, RandomForestClassifier\n",
    "from sklearn.metrics import roc_auc_score, precision_score, recall_score, f1_score, roc_curve\n"
   ]
  },
  {
   "cell_type": "markdown",
   "id": "b88a20d1-956e-4b83-85f8-6ba25fa45856",
   "metadata": {},
   "source": [
    "## Подготовка данных и препроцессинга (как в baseline)\n"
   ]
  },
  {
   "cell_type": "code",
   "execution_count": 4,
   "id": "d971d126-ed66-43fa-970c-6cc675869eb0",
   "metadata": {},
   "outputs": [],
   "source": [
    "ROOT = Path.cwd() if Path.cwd().name==\"credit\" else Path.cwd().parent\n",
    "PROC = ROOT / \"data\" / \"processed\"\n",
    "TARGET = \"default.payment.next.month\"\n",
    "\n",
    "train = pd.read_csv(PROC/\"train.csv\")\n",
    "test  = pd.read_csv(PROC/\"test.csv\")\n",
    "\n",
    "for df in (train, test):\n",
    "    if \"ID\" in df.columns:\n",
    "        df.drop(columns=[\"ID\"], inplace=True)\n",
    "\n",
    "X_train, y_train = train.drop(columns=[TARGET]), train[TARGET]\n",
    "X_test,  y_test  = test.drop(columns=[TARGET]),  test[TARGET]\n",
    "\n",
    "all_cols = X_train.columns.tolist()\n",
    "cat_cols = [c for c in [\"SEX\",\"EDUCATION\",\"MARRIAGE\"] if c in all_cols] + [c for c in all_cols if c.startswith(\"PAY_\")]\n",
    "cat_cols = sorted(list(dict.fromkeys(cat_cols)))\n",
    "num_cols = [c for c in all_cols if c not in cat_cols]\n",
    "\n",
    "numeric_tf = Pipeline([(\"imputer\", SimpleImputer(strategy=\"median\")),\n",
    "                       (\"scaler\", StandardScaler())])\n",
    "categorical_tf = Pipeline([(\"imputer\", SimpleImputer(strategy=\"most_frequent\")),\n",
    "                           (\"onehot\", OneHotEncoder(handle_unknown=\"ignore\"))])\n",
    "preprocess = ColumnTransformer([(\"num\", numeric_tf, num_cols),\n",
    "                                (\"cat\", categorical_tf, cat_cols)])\n"
   ]
  },
  {
   "cell_type": "markdown",
   "id": "0d560aa3-66d3-4185-b316-faa881db4d45",
   "metadata": {},
   "source": [
    "## Настраиваю MLflow \n"
   ]
  },
  {
   "cell_type": "code",
   "execution_count": 7,
   "id": "c5609390-93c6-4066-ab5d-f0818f9a5503",
   "metadata": {},
   "outputs": [
    {
     "name": "stderr",
     "output_type": "stream",
     "text": [
      "2025/10/28 14:50:23 INFO mlflow.tracking.fluent: Experiment with name 'PD_Baselines' does not exist. Creating a new experiment.\n"
     ]
    },
    {
     "data": {
      "text/plain": [
       "'C:\\\\Users\\\\USER\\\\Desktop\\\\credit\\\\mlruns'"
      ]
     },
     "execution_count": 7,
     "metadata": {},
     "output_type": "execute_result"
    }
   ],
   "source": [
    "mlruns_dir = str(ROOT / \"mlruns\")\n",
    "mlflow.set_tracking_uri(f\"file:///{mlruns_dir.replace('\\\\','/')}\")\n",
    "mlflow.set_experiment(\"PD_Baselines\");\n",
    "mlruns_dir\n"
   ]
  },
  {
   "cell_type": "markdown",
   "id": "603962d6-4127-442e-9793-81a179d2b432",
   "metadata": {},
   "source": [
    "## Цикл экспериментов (5 запусков)\n"
   ]
  },
  {
   "cell_type": "code",
   "execution_count": 14,
   "id": "2ebcfb35-3860-4d28-a1d5-6a1d16bb2a1a",
   "metadata": {},
   "outputs": [
    {
     "data": {
      "text/plain": [
       "[{'roc_auc': 0.7575339808236351,\n",
       "  'precision': 0.6563814866760168,\n",
       "  'recall': 0.35267520723436324,\n",
       "  'f1': 0.4588235294117647,\n",
       "  'pred_pos_rate': 0.11883333333333333},\n",
       " {'roc_auc': 0.7479272532115823,\n",
       "  'precision': 0.6457461645746164,\n",
       "  'recall': 0.34890730972117556,\n",
       "  'f1': 0.45303326810176126,\n",
       "  'pred_pos_rate': 0.1195},\n",
       " {'roc_auc': 0.7705216566622121,\n",
       "  'precision': 0.6642441860465116,\n",
       "  'recall': 0.3443858327053504,\n",
       "  'f1': 0.45359801488833745,\n",
       "  'pred_pos_rate': 0.11466666666666667},\n",
       " {'roc_auc': 0.7491205148271969,\n",
       "  'precision': 0.0,\n",
       "  'recall': 0.0,\n",
       "  'f1': 0.0,\n",
       "  'pred_pos_rate': 0.0},\n",
       " {'roc_auc': 0.7517428844146438,\n",
       "  'precision': 0.0,\n",
       "  'recall': 0.0,\n",
       "  'f1': 0.0,\n",
       "  'pred_pos_rate': 0.0}]"
      ]
     },
     "execution_count": 14,
     "metadata": {},
     "output_type": "execute_result"
    }
   ],
   "source": [
    "from sklearn.exceptions import UndefinedMetricWarning\n",
    "import warnings\n",
    "warnings.filterwarnings(\"ignore\", category=UndefinedMetricWarning)\n",
    "\n",
    "def train_and_log(model, params: dict, run_name: str):\n",
    "    pipe = Pipeline([(\"preprocess\", preprocess), (\"clf\", model.set_params(**params))])\n",
    "\n",
    "    with mlflow.start_run(run_name=run_name):\n",
    "        mlflow.log_param(\"model\", type(model).__name__)\n",
    "        mlflow.log_params({f\"clf__{k}\": v for k,v in params.items()})\n",
    "\n",
    "        pipe.fit(X_train, y_train)\n",
    "\n",
    "        y_proba = pipe.predict_proba(X_test)[:, 1]\n",
    "        y_pred  = pipe.predict(X_test)\n",
    "\n",
    "        # метрики без ворнингов + доля предсказанных единиц\n",
    "        metrics = {\n",
    "            \"roc_auc\": float(roc_auc_score(y_test, y_proba)),\n",
    "            \"precision\": float(precision_score(y_test, y_pred, zero_division=0)),\n",
    "            \"recall\": float(recall_score(y_test, y_pred, zero_division=0)),\n",
    "            \"f1\": float(f1_score(y_test, y_pred, zero_division=0)),\n",
    "            \"pred_pos_rate\": float(y_pred.mean()),   # сколько «1» предсказали\n",
    "        }\n",
    "        mlflow.log_metrics(metrics)\n",
    "\n",
    "        # ROC арт\n",
    "        fpr, tpr, _ = roc_curve(y_test, y_proba)\n",
    "        plt.figure(figsize=(5,4))\n",
    "        plt.plot(fpr, tpr, label=f\"AUC={metrics['roc_auc']:.3f}\")\n",
    "        plt.plot([0,1],[0,1],\"--\")\n",
    "        plt.xlabel(\"FPR\"); plt.ylabel(\"TPR\"); plt.title(run_name); plt.legend(); plt.tight_layout()\n",
    "        out_png = ROOT / \"models\" / f\"roc_{run_name}.png\"\n",
    "        out_png.parent.mkdir(exist_ok=True, parents=True)\n",
    "        plt.savefig(out_png, dpi=150); plt.close()\n",
    "        mlflow.log_artifact(str(out_png))\n",
    "        try: out_png.unlink()\n",
    "        except: pass\n",
    "\n",
    "        mlflow.sklearn.log_model(pipe, artifact_path=\"model\")\n",
    "        return metrics\n",
    "\n",
    "\n",
    "runs = []\n",
    "runs.append(train_and_log(LogisticRegression(max_iter=500, solver=\"lbfgs\"), {\"C\":0.3}, \"LR_C0.3\"))\n",
    "runs.append(train_and_log(LogisticRegression(max_iter=500, solver=\"lbfgs\"), {\"C\":1.0}, \"LR_C1.0\"))\n",
    "runs.append(train_and_log(GradientBoostingClassifier(), {\"n_estimators\":150,\"learning_rate\":0.1}, \"GB_150_0.1\"))\n",
    "runs.append(train_and_log(RandomForestClassifier(random_state=42), {\"n_estimators\":300,\"max_depth\":8}, \"RF_300_d8\"))\n",
    "runs.append(train_and_log(RandomForestClassifier(random_state=42), {\"n_estimators\":500,\"max_depth\":10}, \"RF_500_d10\"))\n",
    "\n",
    "runs\n"
   ]
  },
  {
   "cell_type": "code",
   "execution_count": 16,
   "id": "8b12014b-f688-4c6d-b1d3-cb91a079b701",
   "metadata": {},
   "outputs": [],
   "source": [
    "runs.append(train_and_log(\n",
    "    LogisticRegression(max_iter=500, solver=\"lbfgs\"),\n",
    "    {\"C\": 1.0, \"class_weight\": \"balanced\"},\n",
    "    \"LR_bal_C1.0\"\n",
    "))\n",
    "runs.append(train_and_log(\n",
    "    RandomForestClassifier(random_state=42),\n",
    "    {\"n_estimators\": 400, \"max_depth\": 10, \"class_weight\": \"balanced\"},\n",
    "    \"RF_bal_400_d10\"\n",
    "))\n"
   ]
  },
  {
   "cell_type": "markdown",
   "id": "a55334c6-f285-4a84-931b-a8015fcb0e84",
   "metadata": {},
   "source": [
    "## Как открыть MLflow UI\n",
    "\r\n",
    "### Как запустить MLflow UI\r\n",
    " 1. Терминал (CMD/PowerShую**\r\n",
    "\r\n",
    "1. Открой терминал и перейди в проект:\r\n",
    "\r\n",
    "```powershell\r\n",
    "cd C:\\Users\\USER\\Desktop\\credit\r\n",
    "```\r\n",
    "\r\n",
    "2. Запусти UI через питон из venv:\r\n",
    "\r\n",
    "```powershell\r\n",
    ".\\.venv\\Scripts\\python -m mlflow ui --backend-store-uri mlruns --port 5001\r\n",
    "```\r\n",
    "\r\n",
    "3. Открой в браузере: [http://127.0.0.1:5001](http:го** окружения и увидит локальные эксперименты.\r\n"
   ]
  },
  {
   "cell_type": "code",
   "execution_count": 24,
   "id": "a205ab74-da60-440f-9305-b1080b562720",
   "metadata": {},
   "outputs": [
    {
     "name": "stdout",
     "output_type": "stream",
     "text": [
      "> git check-ignore -v reports/figures/* || echo \"not ignored\" \n",
      " \"not ignored\"\n",
      "\n",
      "> git add reports/figures/* \n",
      " \n",
      "> git add README.md \n",
      " fatal: pathspec 'README.md' did not match any files\n",
      "\n",
      "> git commit -m \"docs(mlflow): add screenshots (UI start, experiments list, RF_bal_400_d10 run)\" \n",
      " [main 7eaf1c9] docs(mlflow): add screenshots (UI start, experiments list, RF_bal_400_d10 run)\n",
      " 3 files changed, 0 insertions(+), 0 deletions(-)\n",
      " create mode 100644 reports/figures/03-mlflow-run-RF_bal_400_d10.png\n",
      " create mode 100644 reports/figures/03-mlflow-terminal-ui-start.png\n",
      " create mode 100644 reports/figures/03-mlflow-ui-runs.png\n",
      "\n",
      "> git push \n",
      " To https://github.com/pero1x1/credit.git\n",
      "   a69187a..7eaf1c9  main -> main\n",
      "\n"
     ]
    },
    {
     "data": {
      "text/plain": [
       "CompletedProcess(args='git push', returncode=0, stdout='', stderr='To https://github.com/pero1x1/credit.git\\n   a69187a..7eaf1c9  main -> main\\n')"
      ]
     },
     "execution_count": 24,
     "metadata": {},
     "output_type": "execute_result"
    }
   ],
   "source": [
    "import subprocess, pathlib\n",
    "ROOT = pathlib.Path.cwd() if pathlib.Path.cwd().name==\"credit\" else pathlib.Path.cwd().parent\n",
    "\n",
    "def sh(c):\n",
    "    r = subprocess.run(c, cwd=ROOT, shell=True, text=True, capture_output=True)\n",
    "    print(\">\", c, \"\\n\", r.stdout or r.stderr); \n",
    "    return r\n",
    "\n",
    "# на всякий случай покажем, не игнорятся ли картинки .gitignore-ом\n",
    "sh('git check-ignore -v reports/figures/* || echo \"not ignored\"')\n",
    "\n",
    "# добавляем только скрины + README (если ты его менял)\n",
    "sh(\"git add reports/figures/*\")\n",
    "sh(\"git add README.md\")  # не страшно, если файла нет\n",
    "\n",
    "# отдельный docs-коммит\n",
    "sh('git commit -m \"docs(mlflow): add screenshots (UI start, experiments list, RF_bal_400_d10 run)\"')\n",
    "\n",
    "# пуш\n",
    "sh(\"git push\")\n"
   ]
  }
 ],
 "metadata": {
  "kernelspec": {
   "display_name": "Python (credit)",
   "language": "python",
   "name": "credit-venv"
  },
  "language_info": {
   "codemirror_mode": {
    "name": "ipython",
    "version": 3
   },
   "file_extension": ".py",
   "mimetype": "text/x-python",
   "name": "python",
   "nbconvert_exporter": "python",
   "pygments_lexer": "ipython3",
   "version": "3.12.4"
  }
 },
 "nbformat": 4,
 "nbformat_minor": 5
}
