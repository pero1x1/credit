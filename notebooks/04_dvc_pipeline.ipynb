{
 "cells": [
  {
   "cell_type": "code",
   "execution_count": 16,
   "id": "002e27fe-1daa-4aef-adf5-e5b9ae4b1dd6",
   "metadata": {},
   "outputs": [
    {
     "name": "stdout",
     "output_type": "stream",
     "text": [
      "Note: you may need to restart the kernel to use updated packages.\n"
     ]
    },
    {
     "data": {
      "text/plain": [
       "WindowsPath('C:/Users/USER/Desktop/credit')"
      ]
     },
     "execution_count": 16,
     "metadata": {},
     "output_type": "execute_result"
    }
   ],
   "source": [
    "%pip install -q dvc==3.53.2 joblib matplotlib \n",
    "\n",
    "from pathlib import Path\n",
    "ROOT = Path.cwd() if Path.cwd().name==\"credit\" else Path.cwd().parent\n",
    "ROOT\n"
   ]
  },
  {
   "cell_type": "markdown",
   "id": "ad3d495b-6d8d-429e-81ce-75c4a00d3174",
   "metadata": {},
   "source": [
    "# Дерево папок + сырой датасет под DVC"
   ]
  },
  {
   "cell_type": "code",
   "execution_count": 18,
   "id": "194bd6aa-215a-4b8f-b74b-d830b8920ab5",
   "metadata": {},
   "outputs": [
    {
     "data": {
      "text/plain": [
       "(WindowsPath('C:/Users/USER/Desktop/credit/data/raw/UCI_Credit_Card.csv'),\n",
       " True)"
      ]
     },
     "execution_count": 18,
     "metadata": {},
     "output_type": "execute_result"
    }
   ],
   "source": [
    "import shutil, os\n",
    "\n",
    "# создадим нужные папки\n",
    "for p in [\"data/raw\", \"data/processed\", \"models\", \"src/data\", \"src/models\"]:\n",
    "    (ROOT / p).mkdir(parents=True, exist_ok=True)\n",
    "\n",
    "# положи исходный CSV в data/raw (если его там нет)\n",
    "raw_csv = ROOT / \"data\" / \"raw\" / \"UCI_Credit_Card.csv\"\n",
    "if not raw_csv.exists():\n",
    "    # если файл лежит рядом с ноутбуком/где-то ещё — поправь путь ниже и скопируй\n",
    "    possible = ROOT / \"UCI_Credit_Card.csv\"\n",
    "    if possible.exists():\n",
    "        shutil.copy2(possible, raw_csv)\n",
    "\n",
    "raw_csv, raw_csv.exists()\n"
   ]
  },
  {
   "cell_type": "markdown",
   "id": "4038ec71-a983-44bf-af00-203d9e56b17d",
   "metadata": {},
   "source": [
    "## DVC init + добавим сырой CSV в DVC"
   ]
  },
  {
   "cell_type": "code",
   "execution_count": 20,
   "id": "8a81d18f-0eb9-4a16-9800-bd4e046d3168",
   "metadata": {},
   "outputs": [
    {
     "name": "stdout",
     "output_type": "stream",
     "text": [
      "> dvc init -q \n",
      " \n",
      "> dvc add data/raw/UCI_Credit_Card.csv \n",
      " \n",
      "To track the changes with git, run:\n",
      "\n",
      "\tgit add 'data\\raw\\UCI_Credit_Card.csv.dvc'\n",
      "\n",
      "To enable auto staging, run:\n",
      "\n",
      "\tdvc config core.autostage true\n",
      "\n"
     ]
    },
    {
     "data": {
      "text/plain": [
       "CompletedProcess(args='dvc add data/raw/UCI_Credit_Card.csv', returncode=0, stdout=\"\\nTo track the changes with git, run:\\n\\n\\tgit add 'data\\\\raw\\\\UCI_Credit_Card.csv.dvc'\\n\\nTo enable auto staging, run:\\n\\n\\tdvc config core.autostage true\\n\", stderr='\\\\u280b Checking graph\\n\\n')"
      ]
     },
     "execution_count": 20,
     "metadata": {},
     "output_type": "execute_result"
    }
   ],
   "source": [
    "import subprocess, sys\n",
    "\n",
    "def sh(cmd):\n",
    "    r = subprocess.run(cmd, cwd=ROOT, shell=True, text=True, capture_output=True)\n",
    "    print(\">\", cmd, \"\\n\", r.stdout or r.stderr); \n",
    "    return r\n",
    "\n",
    "sh(\"dvc init -q\")\n",
    "# добавим сырой датасет под контроль DVC (в гит уйдёт .dvc-файл, сам csv — в .gitignore)\n",
    "sh(\"dvc add data/raw/UCI_Credit_Card.csv\")\n"
   ]
  },
  {
   "cell_type": "markdown",
   "id": "ea095b1d-afff-41a8-9b7b-2274fe8654ef",
   "metadata": {},
   "source": [
    "## Скрипт src/models/train.py"
   ]
  },
  {
   "cell_type": "code",
   "execution_count": 22,
   "id": "6d99207d-21ed-434b-8a4f-b1053d054975",
   "metadata": {},
   "outputs": [
    {
     "data": {
      "text/plain": [
       "WindowsPath('C:/Users/USER/Desktop/credit/src/models/train.py')"
      ]
     },
     "execution_count": 22,
     "metadata": {},
     "output_type": "execute_result"
    }
   ],
   "source": [
    "code = r\"\"\"\n",
    "import json, argparse\n",
    "from pathlib import Path\n",
    "import joblib, pandas as pd\n",
    "\n",
    "from sklearn.pipeline import Pipeline\n",
    "from sklearn.compose import ColumnTransformer\n",
    "from sklearn.impute import SimpleImputer\n",
    "from sklearn.preprocessing import OneHotEncoder, StandardScaler\n",
    "from sklearn.ensemble import GradientBoostingClassifier\n",
    "from sklearn.metrics import roc_auc_score, precision_score, recall_score, f1_score\n",
    "\n",
    "TARGET = \"default.payment.next.month\"\n",
    "\n",
    "def make_preprocess(X):\n",
    "    all_cols = X.columns.tolist()\n",
    "    cat = [c for c in [\"SEX\",\"EDUCATION\",\"MARRIAGE\"] if c in all_cols] + [c for c in all_cols if c.startswith(\"PAY_\")]\n",
    "    cat = sorted(list(dict.fromkeys(cat)))\n",
    "    num = [c for c in all_cols if c not in cat]\n",
    "\n",
    "    num_tf = Pipeline([(\"imputer\", SimpleImputer(strategy=\"median\")),\n",
    "                       (\"scaler\", StandardScaler())])\n",
    "    cat_tf = Pipeline([(\"imputer\", SimpleImputer(strategy=\"most_frequent\")),\n",
    "                       (\"onehot\", OneHotEncoder(handle_unknown=\"ignore\"))])\n",
    "    return ColumnTransformer([(\"num\", num_tf, num), (\"cat\", cat_tf, cat)])\n",
    "\n",
    "def main(train_path, test_path, model_out, metrics_out):\n",
    "    train = pd.read_csv(train_path)\n",
    "    test  = pd.read_csv(test_path)\n",
    "    for df in (train, test):\n",
    "        if \"ID\" in df.columns: df.drop(columns=[\"ID\"], inplace=True)\n",
    "\n",
    "    X_train, y_train = train.drop(columns=[TARGET]), train[TARGET]\n",
    "    X_test,  y_test  = test.drop(columns=[TARGET]),  test[TARGET]\n",
    "\n",
    "    pipe = Pipeline([\n",
    "        (\"preprocess\", make_preprocess(X_train)),\n",
    "        (\"clf\", GradientBoostingClassifier(learning_rate=0.1, n_estimators=150, random_state=42))\n",
    "    ])\n",
    "    pipe.fit(X_train, y_train)\n",
    "\n",
    "    y_proba = pipe.predict_proba(X_test)[:,1]\n",
    "    y_pred  = pipe.predict(X_test)\n",
    "\n",
    "    metrics = {\n",
    "        \"model\": \"GradientBoostingClassifier\",\n",
    "        \"model_params\": {\"learning_rate\": 0.1, \"n_estimators\": 150},\n",
    "        \"roc_auc\": float(roc_auc_score(y_test, y_proba)),\n",
    "        \"precision\": float(precision_score(y_test, y_pred, zero_division=0)),\n",
    "        \"recall\": float(recall_score(y_test, y_pred, zero_division=0)),\n",
    "        \"f1\": float(f1_score(y_test, y_pred, zero_division=0))\n",
    "    }\n",
    "\n",
    "    model_out = Path(model_out); model_out.parent.mkdir(parents=True, exist_ok=True)\n",
    "    metrics_out = Path(metrics_out); metrics_out.parent.mkdir(parents=True, exist_ok=True)\n",
    "    joblib.dump(pipe, model_out)\n",
    "    Path(metrics_out).write_text(json.dumps(metrics, indent=2), encoding=\"utf-8\")\n",
    "\n",
    "if __name__ == \"__main__\":\n",
    "    p = argparse.ArgumentParser()\n",
    "    p.add_argument(\"--train\", required=True)\n",
    "    p.add_argument(\"--test\", required=True)\n",
    "    p.add_argument(\"--model-out\", required=True)\n",
    "    p.add_argument(\"--metrics-out\", required=True)\n",
    "    args = p.parse_args()\n",
    "    main(args.train, args.test, args.model_out, args.metrics_out)\n",
    "\"\"\"\n",
    "path = ROOT / \"src\" / \"models\" / \"train.py\"\n",
    "path.write_text(code, encoding=\"utf-8\"); path\n"
   ]
  },
  {
   "cell_type": "markdown",
   "id": "d055f868-ec9f-458b-b88a-f2d95efbad5c",
   "metadata": {},
   "source": [
    "## Создаём dvc.yaml (2 стадии)"
   ]
  },
  {
   "cell_type": "code",
   "execution_count": 24,
   "id": "cd6b0316-1286-4b7e-b847-90b6086f9af8",
   "metadata": {},
   "outputs": [
    {
     "data": {
      "text/plain": [
       "WindowsPath('C:/Users/USER/Desktop/credit/dvc.yaml')"
      ]
     },
     "execution_count": 24,
     "metadata": {},
     "output_type": "execute_result"
    }
   ],
   "source": [
    "dvc_yaml = f\"\"\"\n",
    "stages:\n",
    "  prepare:\n",
    "    cmd: python src/data/make_dataset.py data/raw/UCI_Credit_Card.csv data/processed/\n",
    "    deps:\n",
    "    - src/data/make_dataset.py\n",
    "    - data/raw/UCI_Credit_Card.csv\n",
    "    outs:\n",
    "    - data/processed/train.csv\n",
    "    - data/processed/test.csv\n",
    "\n",
    "  train:\n",
    "    cmd: python src/models/train.py --train data/processed/train.csv --test data/processed/test.csv --model-out models/credit_default_model.pkl --metrics-out models/metrics.json\n",
    "    deps:\n",
    "    - src/models/train.py\n",
    "    - data/processed/train.csv\n",
    "    - data/processed/test.csv\n",
    "    outs:\n",
    "    - models/credit_default_model.pkl\n",
    "    metrics:\n",
    "    - models/metrics.json:\n",
    "        cache: false\n",
    "\"\"\"\n",
    "p = (ROOT / \"dvc.yaml\")\n",
    "p.write_text(dvc_yaml, encoding=\"utf-8\"); p\n"
   ]
  },
  {
   "cell_type": "code",
   "execution_count": 32,
   "id": "e7775695-39c3-4d6e-a1f8-d46384fd9b94",
   "metadata": {},
   "outputs": [
    {
     "name": "stdout",
     "output_type": "stream",
     "text": [
      "> dvc repro \n",
      " 'data\\raw\\UCI_Credit_Card.csv.dvc' didn't change, skipping\n",
      "Running stage 'prepare':\n",
      "> python src/data/make_dataset.py data/raw/UCI_Credit_Card.csv data/processed/\n",
      "\n",
      "{\n",
      "  \"model\": \"GradientBoostingClassifier\",\n",
      "  \"model_params\": {\n",
      "    \"learning_rate\": 0.1,\n",
      "    \"n_estimators\": 150\n",
      "  },\n",
      "  \"roc_auc\": 0.7705572956671517,\n",
      "  \"precision\": 0.6647230320699709,\n",
      "  \"recall\": 0.3436322532027129,\n",
      "  \"f1\": 0.45305514157973176\n",
      "}\n"
     ]
    }
   ],
   "source": [
    "# пересоберёт обе стадии, положит артефакты и метрики\n",
    "sh(\"dvc repro\")\n",
    "print((ROOT/\"models\"/\"metrics.json\").read_text()[:250])\n"
   ]
  },
  {
   "cell_type": "code",
   "execution_count": 36,
   "id": "4f73ee60-cce5-44b8-805e-ff083cb3336e",
   "metadata": {},
   "outputs": [
    {
     "name": "stdout",
     "output_type": "stream",
     "text": [
      "> git fetch origin \n",
      " \n",
      "> git status -sb \n",
      " ## main...origin/main [ahead 3, behind 2]\n",
      " M notebooks/04_dvc_pipeline.ipynb\n",
      "\n",
      "> git log --oneline --decorate --graph -5 \n",
      " * de8cafa (HEAD -> main) build(dvc): init + dvc.yaml (prepare/train) + data/raw under DVC + reproducible training\n",
      "* 09b89f4 data(dvc): track raw dataset with DVC\n",
      "* daa47cb chore(gitignore): allow DVC .dvc files under data/\n",
      "* 7eaf1c9 docs(mlflow): add screenshots (UI start, experiments list, RF_bal_400_d10 run)\n",
      "* a69187a feat(model): baseline pipeline + GridSearch + metrics + ROC plot; chore: remove $null\n",
      "\n",
      "> git pull --rebase origin main \n",
      " error: cannot pull with rebase: You have unstaged changes.\n",
      "error: Please commit or stash them.\n",
      "\n",
      "> git push \n",
      " To https://github.com/pero1x1/credit.git\n",
      " ! [rejected]        main -> main (non-fast-forward)\n",
      "error: failed to push some refs to 'https://github.com/pero1x1/credit.git'\n",
      "hint: Updates were rejected because the tip of your current branch is behind\n",
      "hint: its remote counterpart. If you want to integrate the remote changes,\n",
      "hint: use 'git pull' before pushing again.\n",
      "hint: See the 'Note about fast-forwards' in 'git push --help' for details.\n",
      "\n"
     ]
    },
    {
     "data": {
      "text/plain": [
       "CompletedProcess(args='git push', returncode=1, stdout='', stderr=\"To https://github.com/pero1x1/credit.git\\n ! [rejected]        main -> main (non-fast-forward)\\nerror: failed to push some refs to 'https://github.com/pero1x1/credit.git'\\nhint: Updates were rejected because the tip of your current branch is behind\\nhint: its remote counterpart. If you want to integrate the remote changes,\\nhint: use 'git pull' before pushing again.\\nhint: See the 'Note about fast-forwards' in 'git push --help' for details.\\n\")"
      ]
     },
     "execution_count": 36,
     "metadata": {},
     "output_type": "execute_result"
    }
   ],
   "source": [
    "# подтягиваем удалённые коммиты и переносим свои поверх, затем пушим\n",
    "sh(\"git fetch origin\")\n",
    "sh(\"git status -sb\")\n",
    "sh(\"git log --oneline --decorate --graph -5\")\n",
    "\n",
    "# главное действие: ребейз на origin/main\n",
    "sh(\"git pull --rebase origin main\")\n",
    "\n",
    "# если ребейз прошёл без конфликтов — просто пушим\n",
    "sh(\"git push\")\n"
   ]
  },
  {
   "cell_type": "code",
   "execution_count": 38,
   "id": "053a19be-9089-42f8-8c9f-72c8d824fb9c",
   "metadata": {},
   "outputs": [
    {
     "name": "stdout",
     "output_type": "stream",
     "text": [
      "> git add -A \n",
      " warning: in the working copy of 'notebooks/04_dvc_pipeline.ipynb', LF will be replaced by CRLF the next time Git touches it\n",
      "\n",
      "> git commit -m \"build(dvc): init + dvc.yaml (prepare/train) + data/raw under DVC + reproducible training\" \n",
      " [main 391f9aa] build(dvc): init + dvc.yaml (prepare/train) + data/raw under DVC + reproducible training\n",
      " 1 file changed, 98 insertions(+), 4 deletions(-)\n",
      "\n",
      "> git push \n",
      " To https://github.com/pero1x1/credit.git\n",
      " ! [rejected]        main -> main (non-fast-forward)\n",
      "error: failed to push some refs to 'https://github.com/pero1x1/credit.git'\n",
      "hint: Updates were rejected because the tip of your current branch is behind\n",
      "hint: its remote counterpart. If you want to integrate the remote changes,\n",
      "hint: use 'git pull' before pushing again.\n",
      "hint: See the 'Note about fast-forwards' in 'git push --help' for details.\n",
      "\n"
     ]
    },
    {
     "data": {
      "text/plain": [
       "CompletedProcess(args='git push', returncode=1, stdout='', stderr=\"To https://github.com/pero1x1/credit.git\\n ! [rejected]        main -> main (non-fast-forward)\\nerror: failed to push some refs to 'https://github.com/pero1x1/credit.git'\\nhint: Updates were rejected because the tip of your current branch is behind\\nhint: its remote counterpart. If you want to integrate the remote changes,\\nhint: use 'git pull' before pushing again.\\nhint: See the 'Note about fast-forwards' in 'git push --help' for details.\\n\")"
      ]
     },
     "execution_count": 38,
     "metadata": {},
     "output_type": "execute_result"
    }
   ],
   "source": [
    "# не забываем requirements и .gitignore обновить, если нужно\n",
    "req = ROOT/\"requirements.txt\"\n",
    "txt = req.read_text(encoding=\"utf-8\") if req.exists() else \"\"\n",
    "for line in [\"dvc==3.53.2\", \"joblib\"]:\n",
    "    if line not in txt:\n",
    "        txt += (\"\" if txt.endswith(\"\\n\") else \"\\n\") + line + \"\\n\"\n",
    "req.write_text(txt, encoding=\"utf-8\")\n",
    "\n",
    "sh(\"git add -A\")\n",
    "sh('git commit -m \"build(dvc): init + dvc.yaml (prepare/train) + data/raw under DVC + reproducible training\"')\n",
    "sh(\"git push\")\n"
   ]
  },
  {
   "cell_type": "code",
   "execution_count": null,
   "id": "66b5ebcb-a18d-4dd8-bb83-d63aae5b0e2c",
   "metadata": {},
   "outputs": [],
   "source": []
  }
 ],
 "metadata": {
  "kernelspec": {
   "display_name": "Python (credit)",
   "language": "python",
   "name": "credit-venv"
  },
  "language_info": {
   "codemirror_mode": {
    "name": "ipython",
    "version": 3
   },
   "file_extension": ".py",
   "mimetype": "text/x-python",
   "name": "python",
   "nbconvert_exporter": "python",
   "pygments_lexer": "ipython3",
   "version": "3.12.4"
  }
 },
 "nbformat": 4,
 "nbformat_minor": 5
}
