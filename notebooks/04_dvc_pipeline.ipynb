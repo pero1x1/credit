{
 "cells": [
  {
   "cell_type": "code",
   "execution_count": 16,
   "id": "002e27fe-1daa-4aef-adf5-e5b9ae4b1dd6",
   "metadata": {},
   "outputs": [
    {
     "name": "stdout",
     "output_type": "stream",
     "text": [
      "Note: you may need to restart the kernel to use updated packages.\n"
     ]
    },
    {
     "data": {
      "text/plain": [
       "WindowsPath('C:/Users/USER/Desktop/credit')"
      ]
     },
     "execution_count": 16,
     "metadata": {},
     "output_type": "execute_result"
    }
   ],
   "source": [
    "%pip install -q dvc==3.53.2 joblib matplotlib \n",
    "\n",
    "from pathlib import Path\n",
    "ROOT = Path.cwd() if Path.cwd().name==\"credit\" else Path.cwd().parent\n",
    "ROOT\n"
   ]
  },
  {
   "cell_type": "markdown",
   "id": "ad3d495b-6d8d-429e-81ce-75c4a00d3174",
   "metadata": {},
   "source": [
    "# Дерево папок + сырой датасет под DVC"
   ]
  },
  {
   "cell_type": "code",
   "execution_count": 18,
   "id": "194bd6aa-215a-4b8f-b74b-d830b8920ab5",
   "metadata": {},
   "outputs": [
    {
     "data": {
      "text/plain": [
       "(WindowsPath('C:/Users/USER/Desktop/credit/data/raw/UCI_Credit_Card.csv'),\n",
       " True)"
      ]
     },
     "execution_count": 18,
     "metadata": {},
     "output_type": "execute_result"
    }
   ],
   "source": [
    "import shutil, os\n",
    "\n",
    "# создадим нужные папки\n",
    "for p in [\"data/raw\", \"data/processed\", \"models\", \"src/data\", \"src/models\"]:\n",
    "    (ROOT / p).mkdir(parents=True, exist_ok=True)\n",
    "\n",
    "# положи исходный CSV в data/raw (если его там нет)\n",
    "raw_csv = ROOT / \"data\" / \"raw\" / \"UCI_Credit_Card.csv\"\n",
    "if not raw_csv.exists():\n",
    "    # если файл лежит рядом с ноутбуком/где-то ещё — поправь путь ниже и скопируй\n",
    "    possible = ROOT / \"UCI_Credit_Card.csv\"\n",
    "    if possible.exists():\n",
    "        shutil.copy2(possible, raw_csv)\n",
    "\n",
    "raw_csv, raw_csv.exists()\n"
   ]
  },
  {
   "cell_type": "markdown",
   "id": "4038ec71-a983-44bf-af00-203d9e56b17d",
   "metadata": {},
   "source": [
    "## DVC init + добавим сырой CSV в DVC"
   ]
  },
  {
   "cell_type": "code",
   "execution_count": 20,
   "id": "8a81d18f-0eb9-4a16-9800-bd4e046d3168",
   "metadata": {},
   "outputs": [
    {
     "name": "stdout",
     "output_type": "stream",
     "text": [
      "> dvc init -q \n",
      " \n",
      "> dvc add data/raw/UCI_Credit_Card.csv \n",
      " \n",
      "To track the changes with git, run:\n",
      "\n",
      "\tgit add 'data\\raw\\UCI_Credit_Card.csv.dvc'\n",
      "\n",
      "To enable auto staging, run:\n",
      "\n",
      "\tdvc config core.autostage true\n",
      "\n"
     ]
    },
    {
     "data": {
      "text/plain": [
       "CompletedProcess(args='dvc add data/raw/UCI_Credit_Card.csv', returncode=0, stdout=\"\\nTo track the changes with git, run:\\n\\n\\tgit add 'data\\\\raw\\\\UCI_Credit_Card.csv.dvc'\\n\\nTo enable auto staging, run:\\n\\n\\tdvc config core.autostage true\\n\", stderr='\\\\u280b Checking graph\\n\\n')"
      ]
     },
     "execution_count": 20,
     "metadata": {},
     "output_type": "execute_result"
    }
   ],
   "source": [
    "import subprocess, sys\n",
    "\n",
    "def sh(cmd):\n",
    "    r = subprocess.run(cmd, cwd=ROOT, shell=True, text=True, capture_output=True)\n",
    "    print(\">\", cmd, \"\\n\", r.stdout or r.stderr); \n",
    "    return r\n",
    "\n",
    "sh(\"dvc init -q\")\n",
    "# добавим сырой датасет под контроль DVC (в гит уйдёт .dvc-файл, сам csv — в .gitignore)\n",
    "sh(\"dvc add data/raw/UCI_Credit_Card.csv\")\n"
   ]
  },
  {
   "cell_type": "markdown",
   "id": "ea095b1d-afff-41a8-9b7b-2274fe8654ef",
   "metadata": {},
   "source": [
    "## Скрипт src/models/train.py"
   ]
  },
  {
   "cell_type": "code",
   "execution_count": 22,
   "id": "6d99207d-21ed-434b-8a4f-b1053d054975",
   "metadata": {},
   "outputs": [
    {
     "data": {
      "text/plain": [
       "WindowsPath('C:/Users/USER/Desktop/credit/src/models/train.py')"
      ]
     },
     "execution_count": 22,
     "metadata": {},
     "output_type": "execute_result"
    }
   ],
   "source": [
    "code = r\"\"\"\n",
    "import json, argparse\n",
    "from pathlib import Path\n",
    "import joblib, pandas as pd\n",
    "\n",
    "from sklearn.pipeline import Pipeline\n",
    "from sklearn.compose import ColumnTransformer\n",
    "from sklearn.impute import SimpleImputer\n",
    "from sklearn.preprocessing import OneHotEncoder, StandardScaler\n",
    "from sklearn.ensemble import GradientBoostingClassifier\n",
    "from sklearn.metrics import roc_auc_score, precision_score, recall_score, f1_score\n",
    "\n",
    "TARGET = \"default.payment.next.month\"\n",
    "\n",
    "def make_preprocess(X):\n",
    "    all_cols = X.columns.tolist()\n",
    "    cat = [c for c in [\"SEX\",\"EDUCATION\",\"MARRIAGE\"] if c in all_cols] + [c for c in all_cols if c.startswith(\"PAY_\")]\n",
    "    cat = sorted(list(dict.fromkeys(cat)))\n",
    "    num = [c for c in all_cols if c not in cat]\n",
    "\n",
    "    num_tf = Pipeline([(\"imputer\", SimpleImputer(strategy=\"median\")),\n",
    "                       (\"scaler\", StandardScaler())])\n",
    "    cat_tf = Pipeline([(\"imputer\", SimpleImputer(strategy=\"most_frequent\")),\n",
    "                       (\"onehot\", OneHotEncoder(handle_unknown=\"ignore\"))])\n",
    "    return ColumnTransformer([(\"num\", num_tf, num), (\"cat\", cat_tf, cat)])\n",
    "\n",
    "def main(train_path, test_path, model_out, metrics_out):\n",
    "    train = pd.read_csv(train_path)\n",
    "    test  = pd.read_csv(test_path)\n",
    "    for df in (train, test):\n",
    "        if \"ID\" in df.columns: df.drop(columns=[\"ID\"], inplace=True)\n",
    "\n",
    "    X_train, y_train = train.drop(columns=[TARGET]), train[TARGET]\n",
    "    X_test,  y_test  = test.drop(columns=[TARGET]),  test[TARGET]\n",
    "\n",
    "    pipe = Pipeline([\n",
    "        (\"preprocess\", make_preprocess(X_train)),\n",
    "        (\"clf\", GradientBoostingClassifier(learning_rate=0.1, n_estimators=150, random_state=42))\n",
    "    ])\n",
    "    pipe.fit(X_train, y_train)\n",
    "\n",
    "    y_proba = pipe.predict_proba(X_test)[:,1]\n",
    "    y_pred  = pipe.predict(X_test)\n",
    "\n",
    "    metrics = {\n",
    "        \"model\": \"GradientBoostingClassifier\",\n",
    "        \"model_params\": {\"learning_rate\": 0.1, \"n_estimators\": 150},\n",
    "        \"roc_auc\": float(roc_auc_score(y_test, y_proba)),\n",
    "        \"precision\": float(precision_score(y_test, y_pred, zero_division=0)),\n",
    "        \"recall\": float(recall_score(y_test, y_pred, zero_division=0)),\n",
    "        \"f1\": float(f1_score(y_test, y_pred, zero_division=0))\n",
    "    }\n",
    "\n",
    "    model_out = Path(model_out); model_out.parent.mkdir(parents=True, exist_ok=True)\n",
    "    metrics_out = Path(metrics_out); metrics_out.parent.mkdir(parents=True, exist_ok=True)\n",
    "    joblib.dump(pipe, model_out)\n",
    "    Path(metrics_out).write_text(json.dumps(metrics, indent=2), encoding=\"utf-8\")\n",
    "\n",
    "if __name__ == \"__main__\":\n",
    "    p = argparse.ArgumentParser()\n",
    "    p.add_argument(\"--train\", required=True)\n",
    "    p.add_argument(\"--test\", required=True)\n",
    "    p.add_argument(\"--model-out\", required=True)\n",
    "    p.add_argument(\"--metrics-out\", required=True)\n",
    "    args = p.parse_args()\n",
    "    main(args.train, args.test, args.model_out, args.metrics_out)\n",
    "\"\"\"\n",
    "path = ROOT / \"src\" / \"models\" / \"train.py\"\n",
    "path.write_text(code, encoding=\"utf-8\"); path\n"
   ]
  },
  {
   "cell_type": "markdown",
   "id": "d055f868-ec9f-458b-b88a-f2d95efbad5c",
   "metadata": {},
   "source": [
    "## Создаём dvc.yaml (2 стадии)"
   ]
  },
  {
   "cell_type": "code",
   "execution_count": 24,
   "id": "cd6b0316-1286-4b7e-b847-90b6086f9af8",
   "metadata": {},
   "outputs": [
    {
     "data": {
      "text/plain": [
       "WindowsPath('C:/Users/USER/Desktop/credit/dvc.yaml')"
      ]
     },
     "execution_count": 24,
     "metadata": {},
     "output_type": "execute_result"
    }
   ],
   "source": [
    "dvc_yaml = f\"\"\"\n",
    "stages:\n",
    "  prepare:\n",
    "    cmd: python src/data/make_dataset.py data/raw/UCI_Credit_Card.csv data/processed/\n",
    "    deps:\n",
    "    - src/data/make_dataset.py\n",
    "    - data/raw/UCI_Credit_Card.csv\n",
    "    outs:\n",
    "    - data/processed/train.csv\n",
    "    - data/processed/test.csv\n",
    "\n",
    "  train:\n",
    "    cmd: python src/models/train.py --train data/processed/train.csv --test data/processed/test.csv --model-out models/credit_default_model.pkl --metrics-out models/metrics.json\n",
    "    deps:\n",
    "    - src/models/train.py\n",
    "    - data/processed/train.csv\n",
    "    - data/processed/test.csv\n",
    "    outs:\n",
    "    - models/credit_default_model.pkl\n",
    "    metrics:\n",
    "    - models/metrics.json:\n",
    "        cache: false\n",
    "\"\"\"\n",
    "p = (ROOT / \"dvc.yaml\")\n",
    "p.write_text(dvc_yaml, encoding=\"utf-8\"); p\n"
   ]
  },
  {
   "cell_type": "code",
   "execution_count": 32,
   "id": "e7775695-39c3-4d6e-a1f8-d46384fd9b94",
   "metadata": {},
   "outputs": [
    {
     "name": "stdout",
     "output_type": "stream",
     "text": [
      "> dvc repro \n",
      " 'data\\raw\\UCI_Credit_Card.csv.dvc' didn't change, skipping\n",
      "Running stage 'prepare':\n",
      "> python src/data/make_dataset.py data/raw/UCI_Credit_Card.csv data/processed/\n",
      "\n",
      "{\n",
      "  \"model\": \"GradientBoostingClassifier\",\n",
      "  \"model_params\": {\n",
      "    \"learning_rate\": 0.1,\n",
      "    \"n_estimators\": 150\n",
      "  },\n",
      "  \"roc_auc\": 0.7705572956671517,\n",
      "  \"precision\": 0.6647230320699709,\n",
      "  \"recall\": 0.3436322532027129,\n",
      "  \"f1\": 0.45305514157973176\n",
      "}\n"
     ]
    }
   ],
   "source": [
    "# пересоберёт обе стадии, положит артефакты и метрики\n",
    "sh(\"dvc repro\")\n",
    "print((ROOT/\"models\"/\"metrics.json\").read_text()[:250])\n"
   ]
  },
  {
   "cell_type": "code",
   "execution_count": 40,
   "id": "66b5ebcb-a18d-4dd8-bb83-d63aae5b0e2c",
   "metadata": {},
   "outputs": [
    {
     "name": "stdout",
     "output_type": "stream",
     "text": [
      "> git add notebooks/04_dvc_pipeline.ipynb \n",
      " warning: in the working copy of 'notebooks/04_dvc_pipeline.ipynb', LF will be replaced by CRLF the next time Git touches it\n",
      "\n",
      "> git commit -m \"wip(dvc): update 04_dvc_pipeline notebook\" \n",
      " [main e24e48a] wip(dvc): update 04_dvc_pipeline notebook\n",
      " 1 file changed, 75 insertions(+), 11 deletions(-)\n",
      "\n",
      "> git pull --rebase origin main \n",
      " From https://github.com/pero1x1/credit\n",
      " * branch            main       -> FETCH_HEAD\n",
      "Rebasing (1/5)\n",
      "Rebasing (2/5)\n",
      "Rebasing (3/5)\n",
      "Rebasing (4/5)\n",
      "Rebasing (5/5)\n",
      "Successfully rebased and updated refs/heads/main.\n",
      "\n",
      "> git push \n",
      " To https://github.com/pero1x1/credit.git\n",
      "   a824c4a..f57feeb  main -> main\n",
      "\n"
     ]
    },
    {
     "data": {
      "text/plain": [
       "CompletedProcess(args='git push', returncode=0, stdout='', stderr='To https://github.com/pero1x1/credit.git\\n   a824c4a..f57feeb  main -> main\\n')"
      ]
     },
     "execution_count": 40,
     "metadata": {},
     "output_type": "execute_result"
    }
   ],
   "source": [
    "sh(\"git add notebooks/04_dvc_pipeline.ipynb\")\n",
    "sh('git commit -m \"wip(dvc): update 04_dvc_pipeline notebook\"')\n",
    "\n",
    "sh(\"git pull --rebase origin main\")\n",
    "\n",
    "sh(\"git push\")\n"
   ]
  },
  {
   "cell_type": "code",
   "execution_count": 42,
   "id": "3e815b40-6af3-4144-bcca-92e02e50850f",
   "metadata": {},
   "outputs": [
    {
     "name": "stdout",
     "output_type": "stream",
     "text": [
      "> git add -A \n",
      " warning: in the working copy of 'notebooks/04_dvc_pipeline.ipynb', LF will be replaced by CRLF the next time Git touches it\n",
      "\n",
      "> git commit -m \"build(dvc): init + dvc.yaml (prepare/train) + data/raw under DVC + reproducible training\" \n",
      " [main 493a750] build(dvc): init + dvc.yaml (prepare/train) + data/raw under DVC + reproducible training\n",
      " 1 file changed, 20 insertions(+), 90 deletions(-)\n",
      "\n",
      "> git push \n",
      " To https://github.com/pero1x1/credit.git\n",
      "   f57feeb..493a750  main -> main\n",
      "\n"
     ]
    },
    {
     "data": {
      "text/plain": [
       "CompletedProcess(args='git push', returncode=0, stdout='', stderr='To https://github.com/pero1x1/credit.git\\n   f57feeb..493a750  main -> main\\n')"
      ]
     },
     "execution_count": 42,
     "metadata": {},
     "output_type": "execute_result"
    }
   ],
   "source": [
    "# не забываем requirements и .gitignore обновить, если нужно\n",
    "req = ROOT/\"requirements.txt\"\n",
    "txt = req.read_text(encoding=\"utf-8\") if req.exists() else \"\"\n",
    "for line in [\"dvc==3.53.2\", \"joblib\"]:\n",
    "    if line not in txt:\n",
    "        txt += (\"\" if txt.endswith(\"\\n\") else \"\\n\") + line + \"\\n\"\n",
    "req.write_text(txt, encoding=\"utf-8\")\n",
    "\n",
    "sh(\"git add -A\")\n",
    "sh('git commit -m \"build(dvc): init + dvc.yaml (prepare/train) + data/raw under DVC + reproducible training\"')\n",
    "sh(\"git push\")\n"
   ]
  },
  {
   "cell_type": "code",
   "execution_count": null,
   "id": "e1bacd20-23c7-442e-beb1-f963a8b4b31c",
   "metadata": {},
   "outputs": [],
   "source": [
    "import pathlib, textwrap, subprocess, json, sys, os, yaml\n",
    "\n",
    "ROOT = pathlib.Path.cwd() if pathlib.Path.cwd().name==\"credit\" else pathlib.Path.cwd().parent\n",
    "\n",
    "def sh(cmd):\n",
    "    r = subprocess.run(cmd, cwd=ROOT, shell=True, text=True, capture_output=True)\n",
    "    print(\">\", cmd, \"\\n\", r.stdout or r.stderr); return r\n",
    "\n",
    "# --- params.yaml (чтобы train.py мог читать гиперпараметры)\n",
    "params = {\n",
    "    \"model\": {\n",
    "        \"type\": \"GradientBoostingClassifier\",\n",
    "        \"n_estimators\": 150,\n",
    "        \"learning_rate\": 0.1,\n",
    "        \"random_state\": 42\n",
    "    }\n",
    "}\n",
    "(ROOT / \"params.yaml\").write_text(yaml.safe_dump(params, sort_keys=False), encoding=\"utf-8\")\n",
    "\n",
    "# --- dvc.yaml (2 стадии: prepare -> train)\n",
    "dvc_yaml = textwrap.dedent(\"\"\"\n",
    "stages:\n",
    "  prepare:\n",
    "    cmd: python src/data/make_dataset.py data/raw/UCI_Credit_Card.csv data/processed/\n",
    "    deps:\n",
    "      - src/data/make_dataset.py\n",
    "      - data/raw/UCI_Credit_Card.csv\n",
    "    outs:\n",
    "      - data/processed/train.csv\n",
    "      - data/processed/test.csv\n",
    "\n",
    "  train:\n",
    "    cmd: python src/models/train.py data/processed/train.csv data/processed/test.csv models/\n",
    "    deps:\n",
    "      - src/models/train.py\n",
    "      - data/processed/train.csv\n",
    "      - data/processed/test.csv\n",
    "      - params.yaml\n",
    "    outs:\n",
    "      - models/credit_default_model.pkl\n",
    "    metrics:\n",
    "      - models/metrics.json:\n",
    "          cache: false\n",
    "\"\"\").strip()\n",
    "(ROOT / \"dvc.yaml\").write_text(dvc_yaml, encoding=\"utf-8\")\n",
    "\n",
    "print((ROOT/\"dvc.yaml\").read_text()[:400])\n"
   ]
  },
  {
   "cell_type": "code",
   "execution_count": null,
   "id": "0bc7452b-843c-44f7-ad84-1b5da8451d10",
   "metadata": {},
   "outputs": [],
   "source": []
  }
 ],
 "metadata": {
  "kernelspec": {
   "display_name": "Python (credit)",
   "language": "python",
   "name": "credit-venv"
  },
  "language_info": {
   "codemirror_mode": {
    "name": "ipython",
    "version": 3
   },
   "file_extension": ".py",
   "mimetype": "text/x-python",
   "name": "python",
   "nbconvert_exporter": "python",
   "pygments_lexer": "ipython3",
   "version": "3.12.4"
  }
 },
 "nbformat": 4,
 "nbformat_minor": 5
}
